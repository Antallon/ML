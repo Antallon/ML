{
 "cells": [
  {
   "cell_type": "code",
   "execution_count": 1,
   "metadata": {},
   "outputs": [],
   "source": [
    "import numpy as np"
   ]
  },
  {
   "cell_type": "code",
   "execution_count": 26,
   "metadata": {},
   "outputs": [],
   "source": [
    "m1 = np.array([1,2,3]).reshape(-1,1)\n",
    "m2 = np.array([4,5,6]).reshape(3,1)\n",
    "m3 = np.concatenate((m1,m2),axis=1)\n",
    "m3 = np.concatenate((m1,m2))\n"
   ]
  },
  {
   "cell_type": "code",
   "execution_count": 31,
   "metadata": {},
   "outputs": [
    {
     "data": {
      "text/plain": [
       "2"
      ]
     },
     "execution_count": 31,
     "metadata": {},
     "output_type": "execute_result"
    }
   ],
   "source": [
    "def lol(mas):\n",
    "    \n",
    "    final=0\n",
    "    final_elem=None\n",
    "    for elem in mas:\n",
    "        cou = 0\n",
    "        for i in range(0,len(mas)):\n",
    "            if elem==mas[i]:\n",
    "                cou+=1\n",
    "        if cou>final:\n",
    "            final_elem = elem\n",
    "            final = cou\n",
    "            \n",
    "    return final_elem\n",
    "        \n",
    "lol([1,2,2,2,3,3,4,5])"
   ]
  },
  {
   "cell_type": "code",
   "execution_count": null,
   "metadata": {},
   "outputs": [],
   "source": []
  }
 ],
 "metadata": {
  "kernelspec": {
   "display_name": "Python 3",
   "language": "python",
   "name": "python3"
  },
  "language_info": {
   "codemirror_mode": {
    "name": "ipython",
    "version": 3
   },
   "file_extension": ".py",
   "mimetype": "text/x-python",
   "name": "python",
   "nbconvert_exporter": "python",
   "pygments_lexer": "ipython3",
   "version": "3.11.4"
  }
 },
 "nbformat": 4,
 "nbformat_minor": 2
}
