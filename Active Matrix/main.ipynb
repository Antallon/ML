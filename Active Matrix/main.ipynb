{
 "cells": [
  {
   "cell_type": "code",
   "execution_count": 3,
   "metadata": {},
   "outputs": [],
   "source": [
    "import pandas as pd\n",
    "import numpy as np\n",
    "import matplotlib.pyplot as plt\n",
    "import seaborn as sns\n",
    "\n",
    "from sklearn.preprocessing import StandardScaler, OrdinalEncoder, LabelEncoder\n",
    "from sklearn.ensemble import RandomForestClassifier, StackingClassifier\n",
    "from sklearn.linear_model import LogisticRegression\n",
    "from sklearn.svm import SVC\n",
    "from sklearn.model_selection import train_test_split, RandomizedSearchCV\n",
    "from sklearn.metrics import accuracy_score, log_loss\n",
    "\n",
    "from catboost import CatBoostClassifier, Pool\n",
    "\n",
    "from category_encoders import TargetEncoder\n",
    "\n",
    "import xgboost as xgb\n",
    "from xgboost import plot_importance\n",
    "\n",
    "import torch\n",
    "import torch.nn as nn\n",
    "import torch.optim as optim\n",
    "from torch.utils.data import TensorDataset, DataLoader\n",
    "from sklearn.naive_bayes import CategoricalNB\n",
    "\n",
    "\n"
   ]
  },
  {
   "cell_type": "code",
   "execution_count": 2,
   "metadata": {},
   "outputs": [
    {
     "name": "stderr",
     "output_type": "stream",
     "text": [
      "C:\\Users\\casov\\AppData\\Local\\Temp\\ipykernel_2320\\2925717708.py:2: DtypeWarning: Columns (329,331,333,336,338,344,345,346,348,354,356,357,358,361,362,364,367,372,377,380,383,385,387,390,399,406,408,409,413,416,418,419,431,433,437,438,442,448,449,450,453,457,464,473,478,479,481,483,485,486,489,492,495,496,497,499,500,503,507,508,510,511,514,515,517,519,520,521,522,523,526,527,530,534,537,538,539,541,542,544,547,548,549,550,551,557,558,560,564,569,572,573,576,577,579,583,596,597,600,601,602,604,605,608,609,613,619,620,625,627,628,629,631,632,636,641,642,646,647,648,655,661,662,665,675,676,679,682,685,687,689,690,691,698,701,702,703,706,712,713,719,720,721,733,735,737,738,742,746,747,748,749,752,754,755,760,768,770,781,782,789,797,807,812,814,817,818,822,823,824,825,832,840,844,850,853,857,858,867,868,873,874,876,877,879,880,881,883,886,890,893,897,899,900,901,902,904,905,908,909,910,912,913,914,915,916,922,923,931,933,935,937,939,942,943,946,951,955,964,965,968,969,970,973,974,977,980,987,994,995,996,1000,1008,1014,1015,1016,1017,1021,1023,1028,1031,1035,1036,1037,1040,1043,1048,1058,1059,1072,1081,1103,1104,1109,1112,1113,1118,1120,1135,1139,1140,1147,1148,1152,1154,1157,1158,1162,1163,1164,1166,1174,1177,1180,1181,1182,1183,1185,1188,1189,1195,1197,1198,1200,1203,1208,1210,1212,1215,1220,1222,1225,1229,1230,1233,1234,1241,1243,1246,1251,1252,1254,1259,1262,1263,1265,1266,1269,1270,1273,1274,1276,1277,1279,1280,1284,1285,1286,1289,1291,1292,1293,1294,1295,1301,1302,1304,1305,1306,1313,1316,1318,1320,1322,1323,1325,1330,1335,1337,1340,1341,1343,1345,1350,1351,1352,1354,1357,1358,1359,1360,1361,1368,1369,1372,1377) have mixed types. Specify dtype option on import or set low_memory=False.\n",
      "  train = pd.read_csv(\"problem_train.csv\")\n",
      "C:\\Users\\casov\\AppData\\Local\\Temp\\ipykernel_2320\\2925717708.py:3: DtypeWarning: Columns (329,331,333,336,338,345,346,348,354,355,358,361,362,364,383,390,392,408,416,419,437,442,448,457,464,478,485,489,496,497,498,499,503,510,514,515,519,520,521,523,524,527,530,539,541,544,548,549,551,558,560,572,573,576,579,583,597,602,606,608,609,613,619,620,625,641,645,646,648,655,661,675,682,685,687,690,691,703,713,719,721,733,737,746,749,752,760,768,781,782,807,817,823,824,825,840,843,845,850,861,868,873,879,886,890,897,899,901,902,904,905,908,910,913,917,922,923,939,946,955,968,969,973,977,987,996,1008,1016,1017,1035,1036,1037,1048,1051,1055,1073,1074,1090,1104,1112,1118,1134,1148,1152,1153,1164,1174,1194,1197,1203,1210,1215,1222,1225,1229,1230,1233,1234,1241,1246,1251,1252,1259,1265,1266,1269,1273,1277,1279,1285,1286,1294,1295,1301,1302,1304,1305,1306,1308,1311,1316,1318,1322,1323,1325,1330,1332,1337,1340,1345,1351,1352,1357,1359,1368,1370,1377) have mixed types. Specify dtype option on import or set low_memory=False.\n",
      "  test_new = pd.read_csv(\"problem_test.csv\")\n"
     ]
    }
   ],
   "source": [
    "labels_train = pd.read_csv(\"problem_labels.csv\")\n",
    "train = pd.read_csv(\"problem_train.csv\")\n",
    "test_new = pd.read_csv(\"problem_test.csv\")\n"
   ]
  },
  {
   "cell_type": "code",
   "execution_count": 144,
   "metadata": {},
   "outputs": [],
   "source": [
    "# train"
   ]
  },
  {
   "cell_type": "code",
   "execution_count": 145,
   "metadata": {},
   "outputs": [],
   "source": [
    "# test_df"
   ]
  },
  {
   "cell_type": "code",
   "execution_count": 146,
   "metadata": {},
   "outputs": [],
   "source": [
    "# nan_count = train.isna().sum()\n",
    "# train1 = train.loc[:, nan_count /len(train)< 0.5]\n",
    "# num = [col for col in train1.columns if train1[col].dtype == \"float64\"]\n",
    "# cat = [col for col in train1.columns if train1[col].dtype == \"object\"]\n",
    "# scaler = StandardScaler()\n",
    "# # ordinal = OrdinalEncoder()\n",
    "# lab = LabelEncoder()\n",
    "# train1[num] = scaler.fit_transform(train1[num])\n",
    "# # train1[cat] = ordinal.fit_transform(train1[cat])\n",
    "\n",
    "# train1[\"release\"] = train[\"release\"]\n",
    "# train1"
   ]
  },
  {
   "cell_type": "code",
   "execution_count": null,
   "metadata": {},
   "outputs": [],
   "source": []
  },
  {
   "cell_type": "code",
   "execution_count": 147,
   "metadata": {},
   "outputs": [],
   "source": [
    "# nan1 = train1.isna().sum()\n",
    "# nan1.describe()"
   ]
  },
  {
   "cell_type": "code",
   "execution_count": 148,
   "metadata": {},
   "outputs": [],
   "source": [
    "# cat_df = train.iloc[:,329:]\n",
    "# cou = cat_df.isna().sum()\n",
    "# cat_df = cat_df.loc[:,cou/len(cat_df) < 0.5]\n",
    "# describe = cat_df.describe()\n",
    "# # cat_df\n",
    "# describe"
   ]
  },
  {
   "cell_type": "code",
   "execution_count": 94,
   "metadata": {},
   "outputs": [
    {
     "data": {
      "text/plain": [
       "Index(['c_0434', 'c_0523', 'c_0587', 'c_0728', 'c_0965', 'c_1021', 'c_1045',\n",
       "       'c_1062', 'c_1099', 'c_1109', 'c_1149', 'c_1169', 'c_1190', 'c_1239',\n",
       "       'c_1259'],\n",
       "      dtype='object')"
      ]
     },
     "execution_count": 94,
     "metadata": {},
     "output_type": "execute_result"
    }
   ],
   "source": [
    "# # cat_df[\"c_0405\"].hist()\n",
    "# uni = describe.loc['unique']\n",
    "# cat_feat = uni[uni>22].index\n",
    "# cat_feat"
   ]
  },
  {
   "cell_type": "code",
   "execution_count": 95,
   "metadata": {},
   "outputs": [
    {
     "data": {
      "text/plain": [
       "n_0012      -0.306085\n",
       "n_0078      -0.305183\n",
       "n_0108      -0.305241\n",
       "o_0141       0.293939\n",
       "o_0223       0.292969\n",
       "service_a    1.000000\n",
       "Name: service_a, dtype: float64"
      ]
     },
     "execution_count": 95,
     "metadata": {},
     "output_type": "execute_result"
    }
   ],
   "source": [
    "# num_df = train1.iloc[:,:42]\n",
    "# num_df[\"service_a\"] = labels_train[\"service_a\"]\n",
    "# num_df = num_df.drop(columns=[\"release\"])\n",
    "\n",
    "# corr_mat = num_df.corr()\n",
    "# num_feat = corr_mat[np.abs(corr_mat[\"service_a\"]) >0.25]#.index[:3]\n",
    "# # num_feat = num[:3]\n",
    "# # num_feat = num_feat[\"service_a\"].index[:5]\n",
    "# # num_feat\n",
    "# num_feat[\"service_a\"]\n"
   ]
  },
  {
   "cell_type": "code",
   "execution_count": null,
   "metadata": {},
   "outputs": [],
   "source": []
  },
  {
   "cell_type": "code",
   "execution_count": 179,
   "metadata": {},
   "outputs": [],
   "source": [
    "# # str(num_feat[:]) + str(cat_feat[:])\n",
    "# features = list(num_feat.union(cat_feat))\n",
    "# features"
   ]
  },
  {
   "cell_type": "code",
   "execution_count": 63,
   "metadata": {},
   "outputs": [
    {
     "name": "stderr",
     "output_type": "stream",
     "text": [
      "C:\\Users\\casov\\AppData\\Local\\Temp\\ipykernel_13592\\1617699043.py:4: SettingWithCopyWarning: \n",
      "A value is trying to be set on a copy of a slice from a DataFrame.\n",
      "Try using .loc[row_indexer,col_indexer] = value instead\n",
      "\n",
      "See the caveats in the documentation: https://pandas.pydata.org/pandas-docs/stable/user_guide/indexing.html#returning-a-view-versus-a-copy\n",
      "  X[cat_feature] = X[cat_feature].astype(str)\n",
      "C:\\Users\\casov\\AppData\\Local\\Temp\\ipykernel_13592\\1617699043.py:4: SettingWithCopyWarning: \n",
      "A value is trying to be set on a copy of a slice from a DataFrame.\n",
      "Try using .loc[row_indexer,col_indexer] = value instead\n",
      "\n",
      "See the caveats in the documentation: https://pandas.pydata.org/pandas-docs/stable/user_guide/indexing.html#returning-a-view-versus-a-copy\n",
      "  X[cat_feature] = X[cat_feature].astype(str)\n",
      "C:\\Users\\casov\\AppData\\Local\\Temp\\ipykernel_13592\\1617699043.py:4: SettingWithCopyWarning: \n",
      "A value is trying to be set on a copy of a slice from a DataFrame.\n",
      "Try using .loc[row_indexer,col_indexer] = value instead\n",
      "\n",
      "See the caveats in the documentation: https://pandas.pydata.org/pandas-docs/stable/user_guide/indexing.html#returning-a-view-versus-a-copy\n",
      "  X[cat_feature] = X[cat_feature].astype(str)\n",
      "C:\\Users\\casov\\AppData\\Local\\Temp\\ipykernel_13592\\1617699043.py:4: SettingWithCopyWarning: \n",
      "A value is trying to be set on a copy of a slice from a DataFrame.\n",
      "Try using .loc[row_indexer,col_indexer] = value instead\n",
      "\n",
      "See the caveats in the documentation: https://pandas.pydata.org/pandas-docs/stable/user_guide/indexing.html#returning-a-view-versus-a-copy\n",
      "  X[cat_feature] = X[cat_feature].astype(str)\n",
      "C:\\Users\\casov\\AppData\\Local\\Temp\\ipykernel_13592\\1617699043.py:4: SettingWithCopyWarning: \n",
      "A value is trying to be set on a copy of a slice from a DataFrame.\n",
      "Try using .loc[row_indexer,col_indexer] = value instead\n",
      "\n",
      "See the caveats in the documentation: https://pandas.pydata.org/pandas-docs/stable/user_guide/indexing.html#returning-a-view-versus-a-copy\n",
      "  X[cat_feature] = X[cat_feature].astype(str)\n",
      "C:\\Users\\casov\\AppData\\Local\\Temp\\ipykernel_13592\\1617699043.py:4: SettingWithCopyWarning: \n",
      "A value is trying to be set on a copy of a slice from a DataFrame.\n",
      "Try using .loc[row_indexer,col_indexer] = value instead\n",
      "\n",
      "See the caveats in the documentation: https://pandas.pydata.org/pandas-docs/stable/user_guide/indexing.html#returning-a-view-versus-a-copy\n",
      "  X[cat_feature] = X[cat_feature].astype(str)\n",
      "C:\\Users\\casov\\AppData\\Local\\Temp\\ipykernel_13592\\1617699043.py:4: SettingWithCopyWarning: \n",
      "A value is trying to be set on a copy of a slice from a DataFrame.\n",
      "Try using .loc[row_indexer,col_indexer] = value instead\n",
      "\n",
      "See the caveats in the documentation: https://pandas.pydata.org/pandas-docs/stable/user_guide/indexing.html#returning-a-view-versus-a-copy\n",
      "  X[cat_feature] = X[cat_feature].astype(str)\n",
      "C:\\Users\\casov\\AppData\\Local\\Temp\\ipykernel_13592\\1617699043.py:4: SettingWithCopyWarning: \n",
      "A value is trying to be set on a copy of a slice from a DataFrame.\n",
      "Try using .loc[row_indexer,col_indexer] = value instead\n",
      "\n",
      "See the caveats in the documentation: https://pandas.pydata.org/pandas-docs/stable/user_guide/indexing.html#returning-a-view-versus-a-copy\n",
      "  X[cat_feature] = X[cat_feature].astype(str)\n",
      "C:\\Users\\casov\\AppData\\Local\\Temp\\ipykernel_13592\\1617699043.py:4: SettingWithCopyWarning: \n",
      "A value is trying to be set on a copy of a slice from a DataFrame.\n",
      "Try using .loc[row_indexer,col_indexer] = value instead\n",
      "\n",
      "See the caveats in the documentation: https://pandas.pydata.org/pandas-docs/stable/user_guide/indexing.html#returning-a-view-versus-a-copy\n",
      "  X[cat_feature] = X[cat_feature].astype(str)\n",
      "C:\\Users\\casov\\AppData\\Local\\Temp\\ipykernel_13592\\1617699043.py:4: SettingWithCopyWarning: \n",
      "A value is trying to be set on a copy of a slice from a DataFrame.\n",
      "Try using .loc[row_indexer,col_indexer] = value instead\n",
      "\n",
      "See the caveats in the documentation: https://pandas.pydata.org/pandas-docs/stable/user_guide/indexing.html#returning-a-view-versus-a-copy\n",
      "  X[cat_feature] = X[cat_feature].astype(str)\n",
      "C:\\Users\\casov\\AppData\\Local\\Temp\\ipykernel_13592\\1617699043.py:4: SettingWithCopyWarning: \n",
      "A value is trying to be set on a copy of a slice from a DataFrame.\n",
      "Try using .loc[row_indexer,col_indexer] = value instead\n",
      "\n",
      "See the caveats in the documentation: https://pandas.pydata.org/pandas-docs/stable/user_guide/indexing.html#returning-a-view-versus-a-copy\n",
      "  X[cat_feature] = X[cat_feature].astype(str)\n",
      "C:\\Users\\casov\\AppData\\Local\\Temp\\ipykernel_13592\\1617699043.py:4: SettingWithCopyWarning: \n",
      "A value is trying to be set on a copy of a slice from a DataFrame.\n",
      "Try using .loc[row_indexer,col_indexer] = value instead\n",
      "\n",
      "See the caveats in the documentation: https://pandas.pydata.org/pandas-docs/stable/user_guide/indexing.html#returning-a-view-versus-a-copy\n",
      "  X[cat_feature] = X[cat_feature].astype(str)\n",
      "C:\\Users\\casov\\AppData\\Local\\Temp\\ipykernel_13592\\1617699043.py:4: SettingWithCopyWarning: \n",
      "A value is trying to be set on a copy of a slice from a DataFrame.\n",
      "Try using .loc[row_indexer,col_indexer] = value instead\n",
      "\n",
      "See the caveats in the documentation: https://pandas.pydata.org/pandas-docs/stable/user_guide/indexing.html#returning-a-view-versus-a-copy\n",
      "  X[cat_feature] = X[cat_feature].astype(str)\n",
      "C:\\Users\\casov\\AppData\\Local\\Temp\\ipykernel_13592\\1617699043.py:4: SettingWithCopyWarning: \n",
      "A value is trying to be set on a copy of a slice from a DataFrame.\n",
      "Try using .loc[row_indexer,col_indexer] = value instead\n",
      "\n",
      "See the caveats in the documentation: https://pandas.pydata.org/pandas-docs/stable/user_guide/indexing.html#returning-a-view-versus-a-copy\n",
      "  X[cat_feature] = X[cat_feature].astype(str)\n",
      "C:\\Users\\casov\\AppData\\Local\\Temp\\ipykernel_13592\\1617699043.py:4: SettingWithCopyWarning: \n",
      "A value is trying to be set on a copy of a slice from a DataFrame.\n",
      "Try using .loc[row_indexer,col_indexer] = value instead\n",
      "\n",
      "See the caveats in the documentation: https://pandas.pydata.org/pandas-docs/stable/user_guide/indexing.html#returning-a-view-versus-a-copy\n",
      "  X[cat_feature] = X[cat_feature].astype(str)\n"
     ]
    },
    {
     "name": "stdout",
     "output_type": "stream",
     "text": [
      "accuracy: 0.836875, log loss: 5.879620959099736\n"
     ]
    }
   ],
   "source": [
    "\n",
    "\n",
    "\n",
    "# X = train1[features]\n",
    "# y = labels_train[\"service_a\"]\n",
    "# for cat_feature in cat_feat:\n",
    "#     X[cat_feature] = X[cat_feature].astype(str)\n",
    "\n",
    "\n",
    "# X_train, X_test, y_train, y_test = train_test_split(X,y,test_size=0.2,random_state=42) \n",
    "\n",
    "# model = CatBoostClassifier(\n",
    "#     iterations=1000,\n",
    "#     learning_rate=0.1,\n",
    "#     depth=6,\n",
    "#     cat_features=list(cat_feat),\n",
    "#     verbose=0\n",
    "# )\n",
    "\n",
    "# model.fit(X_train, y_train)\n",
    "# feature_importances = model.get_feature_importance(Pool(X, y, cat_features=list(cat_feat)))\n",
    "\n",
    "# importance_df = pd.DataFrame({\n",
    "#     'Feature': list(num_feat) + list(cat_feat),\n",
    "#     'Importance': feature_importances\n",
    "# }).sort_values(by='Importance', ascending=False)\n",
    "\n",
    "# # importance_df\n",
    "\n",
    "# y_pred = model.predict(X_test)\n",
    "# accuracy = accuracy_score(y_test, y_pred)\n",
    "# loss = log_loss(y_test, y_pred)\n",
    "\n",
    "# print(f\"accuracy: {accuracy}, log loss: {loss}\")\n",
    "\n"
   ]
  },
  {
   "cell_type": "code",
   "execution_count": 25,
   "metadata": {},
   "outputs": [],
   "source": [
    "# important_feature = importance_df\n",
    "# important_feature\n",
    "# feature_massive = np.array(important_feature)\n",
    "# catboost084 = model"
   ]
  },
  {
   "cell_type": "markdown",
   "metadata": {},
   "source": [
    "на\n",
    "'c_0434','c_0523','c_0587','c_0728','c_0965','c_1021','c_1045','c_1062','c_1099','c_1109', 'c_1149','c_1169','c_1190','c_1239','c_1259','n_0012','n_0078','n_0108':\n",
    "catboost service_a acc: 0.84, log loss: 5.81 \n",
    "catboost service_b acc: 0.755, log loss: 8.83\n",
    "catboost service_c acc: 0.75, log loss 8.89 "
   ]
  },
  {
   "cell_type": "markdown",
   "metadata": {},
   "source": [
    "service a\n",
    "n_0012      -0.306085\n",
    "n_0078      -0.305183\n",
    "n_0108      -0.305241\n",
    "o_0141       0.293939\n",
    "o_0223       0.292969\n"
   ]
  },
  {
   "cell_type": "code",
   "execution_count": 181,
   "metadata": {},
   "outputs": [],
   "source": [
    "# feature_massive"
   ]
  },
  {
   "cell_type": "code",
   "execution_count": 182,
   "metadata": {},
   "outputs": [],
   "source": [
    "# importance_df"
   ]
  },
  {
   "cell_type": "code",
   "execution_count": null,
   "metadata": {},
   "outputs": [],
   "source": []
  },
  {
   "cell_type": "code",
   "execution_count": null,
   "metadata": {},
   "outputs": [],
   "source": []
  },
  {
   "cell_type": "code",
   "execution_count": 6,
   "metadata": {},
   "outputs": [
    {
     "name": "stderr",
     "output_type": "stream",
     "text": [
      "C:\\Users\\casov\\AppData\\Local\\Temp\\ipykernel_14296\\3786042517.py:8: SettingWithCopyWarning: \n",
      "A value is trying to be set on a copy of a slice from a DataFrame.\n",
      "Try using .loc[row_indexer,col_indexer] = value instead\n",
      "\n",
      "See the caveats in the documentation: https://pandas.pydata.org/pandas-docs/stable/user_guide/indexing.html#returning-a-view-versus-a-copy\n",
      "  train2[num] = scaler.fit_transform(train2[num])\n"
     ]
    },
    {
     "data": {
      "text/html": [
       "<div>\n",
       "<style scoped>\n",
       "    .dataframe tbody tr th:only-of-type {\n",
       "        vertical-align: middle;\n",
       "    }\n",
       "\n",
       "    .dataframe tbody tr th {\n",
       "        vertical-align: top;\n",
       "    }\n",
       "\n",
       "    .dataframe thead th {\n",
       "        text-align: right;\n",
       "    }\n",
       "</style>\n",
       "<table border=\"1\" class=\"dataframe\">\n",
       "  <thead>\n",
       "    <tr style=\"text-align: right;\">\n",
       "      <th></th>\n",
       "      <th>n_0002</th>\n",
       "      <th>n_0005</th>\n",
       "      <th>n_0012</th>\n",
       "      <th>n_0019</th>\n",
       "      <th>n_0034</th>\n",
       "      <th>n_0038</th>\n",
       "      <th>n_0047</th>\n",
       "      <th>n_0050</th>\n",
       "      <th>n_0052</th>\n",
       "      <th>n_0061</th>\n",
       "      <th>...</th>\n",
       "      <th>c_1326</th>\n",
       "      <th>c_1328</th>\n",
       "      <th>c_1330</th>\n",
       "      <th>c_1333</th>\n",
       "      <th>c_1335</th>\n",
       "      <th>c_1343</th>\n",
       "      <th>c_1348</th>\n",
       "      <th>c_1361</th>\n",
       "      <th>c_1363</th>\n",
       "      <th>c_1372</th>\n",
       "    </tr>\n",
       "  </thead>\n",
       "  <tbody>\n",
       "    <tr>\n",
       "      <th>0</th>\n",
       "      <td>-0.629577</td>\n",
       "      <td>-0.324253</td>\n",
       "      <td>1.231849</td>\n",
       "      <td>-0.278950</td>\n",
       "      <td>0.384916</td>\n",
       "      <td>-0.568606</td>\n",
       "      <td>1</td>\n",
       "      <td>1</td>\n",
       "      <td>1</td>\n",
       "      <td>1</td>\n",
       "      <td>...</td>\n",
       "      <td>g</td>\n",
       "      <td>b</td>\n",
       "      <td>a</td>\n",
       "      <td>e</td>\n",
       "      <td>w</td>\n",
       "      <td>b</td>\n",
       "      <td>b</td>\n",
       "      <td>e</td>\n",
       "      <td>b</td>\n",
       "      <td>a</td>\n",
       "    </tr>\n",
       "    <tr>\n",
       "      <th>1</th>\n",
       "      <td>-0.391826</td>\n",
       "      <td>-0.943488</td>\n",
       "      <td>0.718997</td>\n",
       "      <td>-0.278950</td>\n",
       "      <td>-0.861076</td>\n",
       "      <td>-0.772236</td>\n",
       "      <td>1</td>\n",
       "      <td>1</td>\n",
       "      <td>1</td>\n",
       "      <td>1</td>\n",
       "      <td>...</td>\n",
       "      <td>s</td>\n",
       "      <td>b</td>\n",
       "      <td>a</td>\n",
       "      <td>e</td>\n",
       "      <td>q</td>\n",
       "      <td>b</td>\n",
       "      <td>b</td>\n",
       "      <td>e</td>\n",
       "      <td>b</td>\n",
       "      <td>a</td>\n",
       "    </tr>\n",
       "    <tr>\n",
       "      <th>2</th>\n",
       "      <td>-0.669203</td>\n",
       "      <td>-0.633871</td>\n",
       "      <td>1.360061</td>\n",
       "      <td>-0.278950</td>\n",
       "      <td>-0.705327</td>\n",
       "      <td>0.653177</td>\n",
       "      <td>1</td>\n",
       "      <td>1</td>\n",
       "      <td>1</td>\n",
       "      <td>1</td>\n",
       "      <td>...</td>\n",
       "      <td>t</td>\n",
       "      <td>a</td>\n",
       "      <td>b</td>\n",
       "      <td>e</td>\n",
       "      <td>u</td>\n",
       "      <td>a</td>\n",
       "      <td>b</td>\n",
       "      <td>c</td>\n",
       "      <td>a</td>\n",
       "      <td>a</td>\n",
       "    </tr>\n",
       "    <tr>\n",
       "      <th>3</th>\n",
       "      <td>0.030843</td>\n",
       "      <td>0.604599</td>\n",
       "      <td>0.334359</td>\n",
       "      <td>-0.278950</td>\n",
       "      <td>-0.393829</td>\n",
       "      <td>1.671330</td>\n",
       "      <td>1</td>\n",
       "      <td>1</td>\n",
       "      <td>1</td>\n",
       "      <td>1</td>\n",
       "      <td>...</td>\n",
       "      <td>g</td>\n",
       "      <td>b</td>\n",
       "      <td>b</td>\n",
       "      <td>NaN</td>\n",
       "      <td>w</td>\n",
       "      <td>a</td>\n",
       "      <td>b</td>\n",
       "      <td>g</td>\n",
       "      <td>a</td>\n",
       "      <td>a</td>\n",
       "    </tr>\n",
       "    <tr>\n",
       "      <th>4</th>\n",
       "      <td>-0.114450</td>\n",
       "      <td>-0.943488</td>\n",
       "      <td>0.462571</td>\n",
       "      <td>-0.278950</td>\n",
       "      <td>-1.172574</td>\n",
       "      <td>-0.772236</td>\n",
       "      <td>1</td>\n",
       "      <td>1</td>\n",
       "      <td>1</td>\n",
       "      <td>1</td>\n",
       "      <td>...</td>\n",
       "      <td>w</td>\n",
       "      <td>a</td>\n",
       "      <td>a</td>\n",
       "      <td>e</td>\n",
       "      <td>b</td>\n",
       "      <td>b</td>\n",
       "      <td>b</td>\n",
       "      <td>e</td>\n",
       "      <td>b</td>\n",
       "      <td>a</td>\n",
       "    </tr>\n",
       "    <tr>\n",
       "      <th>...</th>\n",
       "      <td>...</td>\n",
       "      <td>...</td>\n",
       "      <td>...</td>\n",
       "      <td>...</td>\n",
       "      <td>...</td>\n",
       "      <td>...</td>\n",
       "      <td>...</td>\n",
       "      <td>...</td>\n",
       "      <td>...</td>\n",
       "      <td>...</td>\n",
       "      <td>...</td>\n",
       "      <td>...</td>\n",
       "      <td>...</td>\n",
       "      <td>...</td>\n",
       "      <td>...</td>\n",
       "      <td>...</td>\n",
       "      <td>...</td>\n",
       "      <td>...</td>\n",
       "      <td>...</td>\n",
       "      <td>...</td>\n",
       "      <td>...</td>\n",
       "    </tr>\n",
       "    <tr>\n",
       "      <th>7995</th>\n",
       "      <td>0.528359</td>\n",
       "      <td>-0.014636</td>\n",
       "      <td>-1.204196</td>\n",
       "      <td>-0.278950</td>\n",
       "      <td>NaN</td>\n",
       "      <td>-0.364975</td>\n",
       "      <td>1</td>\n",
       "      <td>1</td>\n",
       "      <td>1</td>\n",
       "      <td>1</td>\n",
       "      <td>...</td>\n",
       "      <td>e</td>\n",
       "      <td>a</td>\n",
       "      <td>a</td>\n",
       "      <td>NaN</td>\n",
       "      <td>j</td>\n",
       "      <td>a</td>\n",
       "      <td>c</td>\n",
       "      <td>NaN</td>\n",
       "      <td>b</td>\n",
       "      <td>a</td>\n",
       "    </tr>\n",
       "    <tr>\n",
       "      <th>7996</th>\n",
       "      <td>-0.374215</td>\n",
       "      <td>-0.014636</td>\n",
       "      <td>0.975423</td>\n",
       "      <td>-0.278950</td>\n",
       "      <td>0.073418</td>\n",
       "      <td>0.653177</td>\n",
       "      <td>1</td>\n",
       "      <td>1</td>\n",
       "      <td>1</td>\n",
       "      <td>1</td>\n",
       "      <td>...</td>\n",
       "      <td>l</td>\n",
       "      <td>b</td>\n",
       "      <td>a</td>\n",
       "      <td>b</td>\n",
       "      <td>n</td>\n",
       "      <td>b</td>\n",
       "      <td>b</td>\n",
       "      <td>e</td>\n",
       "      <td>b</td>\n",
       "      <td>a</td>\n",
       "    </tr>\n",
       "    <tr>\n",
       "      <th>7997</th>\n",
       "      <td>-0.303770</td>\n",
       "      <td>-0.014636</td>\n",
       "      <td>1.360061</td>\n",
       "      <td>-0.278950</td>\n",
       "      <td>-0.549578</td>\n",
       "      <td>-0.772236</td>\n",
       "      <td>1</td>\n",
       "      <td>1</td>\n",
       "      <td>1</td>\n",
       "      <td>1</td>\n",
       "      <td>...</td>\n",
       "      <td>g</td>\n",
       "      <td>b</td>\n",
       "      <td>a</td>\n",
       "      <td>e</td>\n",
       "      <td>w</td>\n",
       "      <td>b</td>\n",
       "      <td>b</td>\n",
       "      <td>NaN</td>\n",
       "      <td>b</td>\n",
       "      <td>a</td>\n",
       "    </tr>\n",
       "    <tr>\n",
       "      <th>7998</th>\n",
       "      <td>0.250983</td>\n",
       "      <td>-1.253105</td>\n",
       "      <td>-0.306706</td>\n",
       "      <td>2.462542</td>\n",
       "      <td>NaN</td>\n",
       "      <td>-0.772236</td>\n",
       "      <td>1</td>\n",
       "      <td>1</td>\n",
       "      <td>1</td>\n",
       "      <td>1</td>\n",
       "      <td>...</td>\n",
       "      <td>g</td>\n",
       "      <td>b</td>\n",
       "      <td>a</td>\n",
       "      <td>b</td>\n",
       "      <td>w</td>\n",
       "      <td>b</td>\n",
       "      <td>b</td>\n",
       "      <td>h</td>\n",
       "      <td>b</td>\n",
       "      <td>a</td>\n",
       "    </tr>\n",
       "    <tr>\n",
       "      <th>7999</th>\n",
       "      <td>0.347844</td>\n",
       "      <td>2.771921</td>\n",
       "      <td>0.718997</td>\n",
       "      <td>-0.278950</td>\n",
       "      <td>1.319410</td>\n",
       "      <td>3.504004</td>\n",
       "      <td>1</td>\n",
       "      <td>1</td>\n",
       "      <td>1</td>\n",
       "      <td>1</td>\n",
       "      <td>...</td>\n",
       "      <td>k</td>\n",
       "      <td>b</td>\n",
       "      <td>a</td>\n",
       "      <td>NaN</td>\n",
       "      <td>k</td>\n",
       "      <td>b</td>\n",
       "      <td>c</td>\n",
       "      <td>c</td>\n",
       "      <td>b</td>\n",
       "      <td>b</td>\n",
       "    </tr>\n",
       "  </tbody>\n",
       "</table>\n",
       "<p>8000 rows × 218 columns</p>\n",
       "</div>"
      ],
      "text/plain": [
       "        n_0002    n_0005    n_0012    n_0019    n_0034    n_0038  n_0047  \\\n",
       "0    -0.629577 -0.324253  1.231849 -0.278950  0.384916 -0.568606       1   \n",
       "1    -0.391826 -0.943488  0.718997 -0.278950 -0.861076 -0.772236       1   \n",
       "2    -0.669203 -0.633871  1.360061 -0.278950 -0.705327  0.653177       1   \n",
       "3     0.030843  0.604599  0.334359 -0.278950 -0.393829  1.671330       1   \n",
       "4    -0.114450 -0.943488  0.462571 -0.278950 -1.172574 -0.772236       1   \n",
       "...        ...       ...       ...       ...       ...       ...     ...   \n",
       "7995  0.528359 -0.014636 -1.204196 -0.278950       NaN -0.364975       1   \n",
       "7996 -0.374215 -0.014636  0.975423 -0.278950  0.073418  0.653177       1   \n",
       "7997 -0.303770 -0.014636  1.360061 -0.278950 -0.549578 -0.772236       1   \n",
       "7998  0.250983 -1.253105 -0.306706  2.462542       NaN -0.772236       1   \n",
       "7999  0.347844  2.771921  0.718997 -0.278950  1.319410  3.504004       1   \n",
       "\n",
       "      n_0050  n_0052  n_0061  ...  c_1326  c_1328  c_1330  c_1333  c_1335  \\\n",
       "0          1       1       1  ...       g       b       a       e       w   \n",
       "1          1       1       1  ...       s       b       a       e       q   \n",
       "2          1       1       1  ...       t       a       b       e       u   \n",
       "3          1       1       1  ...       g       b       b     NaN       w   \n",
       "4          1       1       1  ...       w       a       a       e       b   \n",
       "...      ...     ...     ...  ...     ...     ...     ...     ...     ...   \n",
       "7995       1       1       1  ...       e       a       a     NaN       j   \n",
       "7996       1       1       1  ...       l       b       a       b       n   \n",
       "7997       1       1       1  ...       g       b       a       e       w   \n",
       "7998       1       1       1  ...       g       b       a       b       w   \n",
       "7999       1       1       1  ...       k       b       a     NaN       k   \n",
       "\n",
       "      c_1343  c_1348  c_1361  c_1363  c_1372  \n",
       "0          b       b       e       b       a  \n",
       "1          b       b       e       b       a  \n",
       "2          a       b       c       a       a  \n",
       "3          a       b       g       a       a  \n",
       "4          b       b       e       b       a  \n",
       "...      ...     ...     ...     ...     ...  \n",
       "7995       a       c     NaN       b       a  \n",
       "7996       b       b       e       b       a  \n",
       "7997       b       b     NaN       b       a  \n",
       "7998       b       b       h       b       a  \n",
       "7999       b       c       c       b       b  \n",
       "\n",
       "[8000 rows x 218 columns]"
      ]
     },
     "execution_count": 6,
     "metadata": {},
     "output_type": "execute_result"
    }
   ],
   "source": [
    "nan_count = train.isna().sum()\n",
    "train2 = train.loc[:, nan_count /len(train)< 0.5]\n",
    "num = [col for col in train2.columns if train2[col].dtype == \"float64\"]\n",
    "cat = [col for col in train2.columns if train2[col].dtype == \"object\"]\n",
    "scaler = StandardScaler()\n",
    "cat = cat[1:]\n",
    "\n",
    "train2[num] = scaler.fit_transform(train2[num])\n",
    "\n",
    "train2 = train2.drop(columns=[\"release\",\"id\"])\n",
    "train2"
   ]
  },
  {
   "cell_type": "code",
   "execution_count": 7,
   "metadata": {},
   "outputs": [],
   "source": [
    "\n",
    "X = train2\n",
    "y = labels_train[\"service_a\"]\n",
    "\n",
    "X_train2,X_test2,y_train2, y_test2 = train_test_split(X,y,test_size = 0.2, random_state = 42)\n",
    "target_encoder = TargetEncoder(cols=cat)\n",
    "X_train2 = target_encoder.fit_transform(X_train2, y_train2)\n",
    "X_test2 = target_encoder.transform(X_test2)"
   ]
  },
  {
   "cell_type": "code",
   "execution_count": 18,
   "metadata": {},
   "outputs": [
    {
     "data": {
      "text/plain": [
       "<Figure size 1000x600 with 0 Axes>"
      ]
     },
     "metadata": {},
     "output_type": "display_data"
    },
    {
     "data": {
      "image/png": "[encoded data removed]",
      "text/plain": [
       "<Figure size 640x480 with 1 Axes>"
      ]
     },
     "metadata": {},
     "output_type": "display_data"
    }
   ],
   "source": [
    "model = xgb.XGBClassifier(n_estimators= 100, learning_rate= 0.1, random_state=42)\n",
    "model.fit(X_train2,y_train2)\n",
    "importances = model.feature_importances_\n",
    "\n",
    "plt.figure(figsize=(10,6))\n",
    "plot_importance(model,max_num_features=40)\n",
    "plt.show()"
   ]
  },
  {
   "cell_type": "code",
   "execution_count": 78,
   "metadata": {},
   "outputs": [],
   "source": [
    "top_20=[\"c_1259\", \"n_0002\", \"o_0176\", \"n_0099\", \"n_0110\", \"n_0034\", \"n_0100\", \"o_0270\", \"n_0038\", \"o_0153\", \"o_0125\", \"o_0223\", \"n_0086\", \"c_1175\",\n",
    "\"n_0005\", \"o_0175\", \"n_0102\", \"c_0591\", \"c_1158\", \"o_0279\",\"o_0301\", \"c_1029\", \"c_1172\", \"c_0500\", \"n_0078\", \"c_1238\", \"c_1210\", \"c_0917\", \n",
    "\"c_0944\", \"c_0775\", \"o_0241\", \"o_0144\", \"o_0201\", \"n_0012\", \"c_1052\", \"c_0749\", \"n_0067\", \"c_1361\", \"n_0064\", \"o_0230\"]\n"
   ]
  },
  {
   "cell_type": "code",
   "execution_count": 105,
   "metadata": {},
   "outputs": [
    {
     "name": "stdout",
     "output_type": "stream",
     "text": [
      "accuracy: 0.85125, log loss: 5.3614934416311755\n"
     ]
    }
   ],
   "source": [
    "# top_20 = top_20[:36]\n",
    "# X_train2_20 = X_train2[top_20]\n",
    "# X_test2_20 = X_test2[top_20]\n",
    "\n",
    "\n",
    "# model2 = xgb.XGBClassifier(\n",
    "#     n_estimators=1000,\n",
    "#     learning_rate=0.01,\n",
    "#     random_state=42,\n",
    "#     max_depth=4\n",
    "# )\n",
    "\n",
    "# model2.fit(X_train2_20,y_train2)\n",
    "# y_pred = model2.predict(X_test2_20)\n",
    "# accuracy2 = accuracy_score(y_test2,y_pred)\n",
    "# loss2 = log_loss(y_test2, y_pred)\n",
    "\n",
    "# print(f\"accuracy: {accuracy2}, log loss: {loss2}\")"
   ]
  },
  {
   "cell_type": "code",
   "execution_count": 81,
   "metadata": {},
   "outputs": [
    {
     "name": "stdout",
     "output_type": "stream",
     "text": [
      "Fitting 3 folds for each of 100 candidates, totalling 300 fits\n",
      "Best parameters: {'subsample': 0.8, 'n_estimators': 400, 'max_depth': 8, 'learning_rate': 0.01, 'gamma': 0.30000000000000004, 'colsample_bytree': 0.6}\n",
      "accuracy: 0.846875, log loss: 5.519184425208564\n"
     ]
    }
   ],
   "source": [
    "\n",
    "\n",
    "# param_dist = {\n",
    "#     'n_estimators': np.arange(100, 1100, 100),\n",
    "#     'learning_rate': np.linspace(0.01, 0.3, 30),\n",
    "#     'max_depth': np.arange(2, 10, 1),\n",
    "#     'subsample': np.linspace(0.5, 1, 6),\n",
    "#     'colsample_bytree': np.linspace(0.5, 1, 6),\n",
    "#     'gamma': np.linspace(0, 0.5, 6)\n",
    "# }\n",
    "\n",
    "# model2 = xgb.XGBClassifier(random_state=42)\n",
    "\n",
    "# random_search = RandomizedSearchCV(\n",
    "#     estimator=model2,\n",
    "#     param_distributions=param_dist,\n",
    "#     n_iter=100,  \n",
    "#     scoring='neg_log_loss',  \n",
    "#     cv=3,  \n",
    "#     verbose=1,\n",
    "#     random_state=42,\n",
    "#     n_jobs=-1  \n",
    "# )\n",
    "\n",
    "# random_search.fit(X_train2_20, y_train2)\n",
    "\n",
    "# print(f\"Best parameters: {random_search.best_params_}\")\n",
    "\n",
    "# best_model = random_search.best_estimator_\n",
    "# y_pred = best_model.predict(X_test2_20)\n",
    "\n",
    "# accuracy2 = accuracy_score(y_test2, y_pred)\n",
    "# loss2 = log_loss(y_test2, y_pred)\n",
    "\n",
    "# print(f\"accuracy: {accuracy2}, log loss: {loss2}\")"
   ]
  },
  {
   "cell_type": "code",
   "execution_count": 180,
   "metadata": {},
   "outputs": [],
   "source": [
    "# X_train2_2_20 = X_train2_20\n",
    "# for column in X_train2_2_20.columns:\n",
    "#     mean_value = X_train2_2_20[column].mean()\n",
    "    \n",
    "#     X_train2_2_20[column].fillna(mean_value, inplace=True)\n"
   ]
  },
  {
   "cell_type": "code",
   "execution_count": 115,
   "metadata": {},
   "outputs": [
    {
     "name": "stdout",
     "output_type": "stream",
     "text": [
      "SVM accuracy: 0.520625, log loss: 0.6867378774251478\n"
     ]
    }
   ],
   "source": [
    "\n",
    "\n",
    "\n",
    "# svm_model = SVC(probability=True, random_state=42)\n",
    "\n",
    "# svm_model.fit(X_train2_2_20, y_train2)\n",
    "\n",
    "\n",
    "# y_pred_svm = svm_model.predict(X_test2_20)\n",
    "# y_pred_proba_svm = svm_model.predict_proba(X_test2_20)\n",
    "\n",
    "# accuracy_svm = accuracy_score(y_test2, y_pred_svm)\n",
    "# loss_svm = log_loss(y_test2, y_pred_proba_svm)\n",
    "\n",
    "# print(f\"SVM accuracy: {accuracy_svm}, log loss: {loss_svm}\")"
   ]
  },
  {
   "cell_type": "code",
   "execution_count": null,
   "metadata": {},
   "outputs": [],
   "source": []
  },
  {
   "cell_type": "code",
   "execution_count": 119,
   "metadata": {},
   "outputs": [
    {
     "name": "stdout",
     "output_type": "stream",
     "text": [
      "accuracy: 0.855, log loss: 5.226329741421987\n"
     ]
    }
   ],
   "source": [
    "\n",
    "# model3 = xgb.XGBClassifier(\n",
    "#     n_estimators=1000,\n",
    "#     learning_rate=0.01,\n",
    "#     random_state=42,\n",
    "#     max_depth=4\n",
    "# )\n",
    "\n",
    "\n",
    "# model3.fit(X_train2_2_20,y_train2)\n",
    "# y_pred = model3.predict(X_test2_20)\n",
    "# accuracy2 = accuracy_score(y_test2,y_pred)\n",
    "# loss2 = log_loss(y_test2, y_pred)\n",
    "\n",
    "# print(f\"accuracy: {accuracy2}, log loss: {loss2}\")"
   ]
  },
  {
   "cell_type": "code",
   "execution_count": 135,
   "metadata": {},
   "outputs": [
    {
     "name": "stdout",
     "output_type": "stream",
     "text": [
      "Random Forest accuracy: 0.849375, log loss: 0.37636941032668875\n"
     ]
    },
    {
     "name": "stderr",
     "output_type": "stream",
     "text": [
      "c:\\Users\\casov\\anaconda3\\Lib\\site-packages\\sklearn\\metrics\\_classification.py:2916: UserWarning: The y_pred values do not sum to one. Starting from 1.5 thiswill result in an error.\n",
      "  warnings.warn(\n"
     ]
    }
   ],
   "source": [
    "\n",
    "# rf_model = RandomForestClassifier(\n",
    "#     n_estimators=1000,\n",
    "#     random_state=42,\n",
    "#     max_depth=10,\n",
    "#     bootstrap=True,\n",
    "#     max_features=\"sqrt\"\n",
    "# )\n",
    "\n",
    "# rf_model.fit(X_train2_2_20, y_train2)\n",
    "# y_pred_rf = rf_model.predict(X_test2_20)\n",
    "# y_pred_proba_rf = rf_model.predict_proba(X_test2_20)\n",
    "# accuracy_rf = accuracy_score(y_test2, y_pred_rf)\n",
    "# loss_rf = log_loss(y_test2, y_pred_proba_rf)\n",
    "\n",
    "# print(f\"Random Forest accuracy: {accuracy_rf}, log loss: {loss_rf}\")"
   ]
  },
  {
   "cell_type": "code",
   "execution_count": null,
   "metadata": {},
   "outputs": [],
   "source": []
  },
  {
   "cell_type": "code",
   "execution_count": null,
   "metadata": {},
   "outputs": [],
   "source": [
    "\n",
    "# X = train2\n",
    "# y = labels_train[\"service_a\"]\n",
    "\n",
    "# X_train2,X_test2,y_train2, y_test2 = train_test_split(X,y,test_size = 0.2, random_state = 42)\n",
    "# target_encoder = TargetEncoder(cols=cat)\n",
    "# X_train2 = target_encoder.fit_transform(X_train2, y_train2)\n",
    "# X_test2 = target_encoder.transform(X_test2)"
   ]
  },
  {
   "cell_type": "code",
   "execution_count": null,
   "metadata": {},
   "outputs": [],
   "source": []
  },
  {
   "cell_type": "code",
   "execution_count": null,
   "metadata": {},
   "outputs": [],
   "source": []
  },
  {
   "cell_type": "code",
   "execution_count": null,
   "metadata": {},
   "outputs": [],
   "source": []
  },
  {
   "cell_type": "code",
   "execution_count": 45,
   "metadata": {},
   "outputs": [
    {
     "data": {
      "text/plain": [
       "array([], dtype=float64)"
      ]
     },
     "execution_count": 45,
     "metadata": {},
     "output_type": "execute_result"
    }
   ],
   "source": [
    "LogLossArr = np.array([])\n",
    "LogLossArr"
   ]
  },
  {
   "cell_type": "markdown",
   "metadata": {},
   "source": [
    "ЛЕС TARGET ENCODER"
   ]
  },
  {
   "cell_type": "code",
   "execution_count": 138,
   "metadata": {},
   "outputs": [
    {
     "name": "stderr",
     "output_type": "stream",
     "text": [
      "C:\\Users\\casov\\AppData\\Local\\Temp\\ipykernel_17484\\2360954128.py:38: FutureWarning: A value is trying to be set on a copy of a DataFrame or Series through chained assignment using an inplace method.\n",
      "The behavior will change in pandas 3.0. This inplace method will never work because the intermediate object on which we are setting values always behaves as a copy.\n",
      "\n",
      "For example, when doing 'df[col].method(value, inplace=True)', try using 'df.method({col: value}, inplace=True)' or df[col] = df[col].method(value) instead, to perform the operation inplace on the original object.\n",
      "\n",
      "\n",
      "  X_train3_top[column].fillna(mean_val1, inplace=True)\n",
      "C:\\Users\\casov\\AppData\\Local\\Temp\\ipykernel_17484\\2360954128.py:38: SettingWithCopyWarning: \n",
      "A value is trying to be set on a copy of a slice from a DataFrame\n",
      "\n",
      "See the caveats in the documentation: https://pandas.pydata.org/pandas-docs/stable/user_guide/indexing.html#returning-a-view-versus-a-copy\n",
      "  X_train3_top[column].fillna(mean_val1, inplace=True)\n",
      "C:\\Users\\casov\\AppData\\Local\\Temp\\ipykernel_17484\\2360954128.py:39: FutureWarning: A value is trying to be set on a copy of a DataFrame or Series through chained assignment using an inplace method.\n",
      "The behavior will change in pandas 3.0. This inplace method will never work because the intermediate object on which we are setting values always behaves as a copy.\n",
      "\n",
      "For example, when doing 'df[col].method(value, inplace=True)', try using 'df.method({col: value}, inplace=True)' or df[col] = df[col].method(value) instead, to perform the operation inplace on the original object.\n",
      "\n",
      "\n",
      "  X_test3_top[column].fillna(mean_val2, inplace=True)\n",
      "C:\\Users\\casov\\AppData\\Local\\Temp\\ipykernel_17484\\2360954128.py:39: SettingWithCopyWarning: \n",
      "A value is trying to be set on a copy of a slice from a DataFrame\n",
      "\n",
      "See the caveats in the documentation: https://pandas.pydata.org/pandas-docs/stable/user_guide/indexing.html#returning-a-view-versus-a-copy\n",
      "  X_test3_top[column].fillna(mean_val2, inplace=True)\n",
      "C:\\Users\\casov\\AppData\\Local\\Temp\\ipykernel_17484\\2360954128.py:40: FutureWarning: A value is trying to be set on a copy of a DataFrame or Series through chained assignment using an inplace method.\n",
      "The behavior will change in pandas 3.0. This inplace method will never work because the intermediate object on which we are setting values always behaves as a copy.\n",
      "\n",
      "For example, when doing 'df[col].method(value, inplace=True)', try using 'df.method({col: value}, inplace=True)' or df[col] = df[col].method(value) instead, to perform the operation inplace on the original object.\n",
      "\n",
      "\n",
      "  test_df[column].fillna(mean_val3,inplace=True)\n"
     ]
    }
   ],
   "source": [
    "nan_count = train.isna().sum()\n",
    "test_df = test_new.copy()\n",
    "train3 = train.loc[:, nan_count /len(train)< 0.5]\n",
    "num = [col for col in train3.columns if train3[col].dtype == \"float64\"]\n",
    "cat = [col for col in train3.columns if train3[col].dtype == \"object\"]\n",
    "scaler = StandardScaler()\n",
    "cat = cat[1:]\n",
    "\n",
    "\n",
    "X = train3\n",
    "y = labels_train[\"service_n\"]\n",
    "\n",
    "X_train3,X_test3,y_train3, y_test3 = train_test_split(X,y,test_size = 0.2, random_state = 42)\n",
    "target_encoder = TargetEncoder(cols=cat)\n",
    "X_train3 = target_encoder.fit_transform(X_train3, y_train3)\n",
    "X_test3 = target_encoder.transform(X_test3)\n",
    "\n",
    "\n",
    "\n",
    "top_20=[\"c_1259\", \"n_0002\", \"o_0176\", \"n_0099\", \"n_0110\", \"n_0034\", \"n_0100\", \"o_0270\", \"n_0038\", \"o_0153\", \"o_0125\", \"o_0223\", \"n_0086\", \"c_1175\",\n",
    "\"n_0005\", \"o_0175\", \"n_0102\", \"c_0591\", \"c_1158\", \"o_0279\",\"o_0301\", \"c_1029\", \"c_1172\", \"c_0500\", \"n_0078\", \"c_1238\", \"c_1210\", \"c_0917\", \n",
    "\"c_0944\", \"c_0775\", \"o_0241\", \"o_0144\", \"o_0201\", \"n_0012\", \"c_1052\", \"c_0749\", \"n_0067\", \"c_1361\", \"n_0064\", \"o_0230\"]\n",
    "\n",
    "\n",
    "top = top_20[:30]\n",
    "X_train3_top = X_train3[top]\n",
    "X_test3_top = X_test3[top]\n",
    "test_df = test_df[X_train3.columns]\n",
    "test_df = target_encoder.transform(test_df)\n",
    "test_df = test_df[top]\n",
    "\n",
    "for column in X_train3_top.columns:\n",
    "    mean_val1 = X_train3_top[column].mean()\n",
    "    mean_val2 = X_test3_top[column].mean()\n",
    "    mean_val3 = test_df[column].mean()\n",
    "\n",
    "    \n",
    "    X_train3_top[column].fillna(mean_val1, inplace=True)\n",
    "    X_test3_top[column].fillna(mean_val2, inplace=True)\n",
    "    test_df[column].fillna(mean_val3,inplace=True)\n",
    "\n",
    "\n"
   ]
  },
  {
   "cell_type": "code",
   "execution_count": 139,
   "metadata": {},
   "outputs": [],
   "source": [
    "# problem_test_labels= pd.DataFrame({\"id\" : test_new[\"id\"]})\n"
   ]
  },
  {
   "cell_type": "code",
   "execution_count": 140,
   "metadata": {},
   "outputs": [
    {
     "name": "stdout",
     "output_type": "stream",
     "text": [
      "Random Forest accuracy: 0.838125, log loss: 0.3484454331310181\n"
     ]
    }
   ],
   "source": [
    "rf_model = RandomForestClassifier(\n",
    "    n_estimators=1000,\n",
    "    random_state=42,\n",
    "    max_depth=10,\n",
    "    bootstrap=True,\n",
    "    max_features=\"sqrt\"\n",
    ")\n",
    "\n",
    "rf_model.fit(X_train3_top, y_train3)\n",
    "y_pred_rf = rf_model.predict(X_test3_top)\n",
    "y_pred_proba_rf = rf_model.predict_proba(X_test3_top)\n",
    "accuracy_rf = accuracy_score(y_test3, y_pred_rf)\n",
    "loss_rf = log_loss(y_test3, y_pred_proba_rf)\n",
    "# LogLossArr = np.append(LogLossArr, loss_rf)\n",
    "print(f\"Random Forest accuracy: {accuracy_rf}, log loss: {loss_rf}\")"
   ]
  },
  {
   "cell_type": "code",
   "execution_count": 141,
   "metadata": {},
   "outputs": [
    {
     "data": {
      "text/html": [
       "<div>\n",
       "<style scoped>\n",
       "    .dataframe tbody tr th:only-of-type {\n",
       "        vertical-align: middle;\n",
       "    }\n",
       "\n",
       "    .dataframe tbody tr th {\n",
       "        vertical-align: top;\n",
       "    }\n",
       "\n",
       "    .dataframe thead th {\n",
       "        text-align: right;\n",
       "    }\n",
       "</style>\n",
       "<table border=\"1\" class=\"dataframe\">\n",
       "  <thead>\n",
       "    <tr style=\"text-align: right;\">\n",
       "      <th></th>\n",
       "      <th>id</th>\n",
       "      <th>service_a</th>\n",
       "      <th>service_b</th>\n",
       "      <th>service_c</th>\n",
       "      <th>service_d</th>\n",
       "      <th>service_e</th>\n",
       "      <th>service_f</th>\n",
       "      <th>service_g</th>\n",
       "      <th>service_h</th>\n",
       "      <th>service_i</th>\n",
       "      <th>service_j</th>\n",
       "      <th>service_k</th>\n",
       "      <th>service_l</th>\n",
       "      <th>service_m</th>\n",
       "      <th>service_n</th>\n",
       "    </tr>\n",
       "  </thead>\n",
       "  <tbody>\n",
       "    <tr>\n",
       "      <th>0</th>\n",
       "      <td>7957</td>\n",
       "      <td>0.356974</td>\n",
       "      <td>0.724678</td>\n",
       "      <td>0.129314</td>\n",
       "      <td>0.001205</td>\n",
       "      <td>0.020727</td>\n",
       "      <td>0.018504</td>\n",
       "      <td>0.032788</td>\n",
       "      <td>0.037325</td>\n",
       "      <td>0.000520</td>\n",
       "      <td>0.902687</td>\n",
       "      <td>0.824692</td>\n",
       "      <td>0.002828</td>\n",
       "      <td>0.005622</td>\n",
       "      <td>0.073721</td>\n",
       "    </tr>\n",
       "    <tr>\n",
       "      <th>1</th>\n",
       "      <td>693</td>\n",
       "      <td>0.270181</td>\n",
       "      <td>0.050067</td>\n",
       "      <td>0.020589</td>\n",
       "      <td>0.072282</td>\n",
       "      <td>0.048613</td>\n",
       "      <td>0.000938</td>\n",
       "      <td>0.009237</td>\n",
       "      <td>0.028289</td>\n",
       "      <td>0.000271</td>\n",
       "      <td>0.946554</td>\n",
       "      <td>0.891643</td>\n",
       "      <td>0.013314</td>\n",
       "      <td>0.015540</td>\n",
       "      <td>0.075249</td>\n",
       "    </tr>\n",
       "    <tr>\n",
       "      <th>2</th>\n",
       "      <td>15558</td>\n",
       "      <td>0.527936</td>\n",
       "      <td>0.538763</td>\n",
       "      <td>0.342072</td>\n",
       "      <td>0.008673</td>\n",
       "      <td>0.047632</td>\n",
       "      <td>0.011899</td>\n",
       "      <td>0.049073</td>\n",
       "      <td>0.237222</td>\n",
       "      <td>0.003524</td>\n",
       "      <td>0.860869</td>\n",
       "      <td>0.783565</td>\n",
       "      <td>0.098400</td>\n",
       "      <td>0.104247</td>\n",
       "      <td>0.286338</td>\n",
       "    </tr>\n",
       "    <tr>\n",
       "      <th>3</th>\n",
       "      <td>15614</td>\n",
       "      <td>0.535025</td>\n",
       "      <td>0.239983</td>\n",
       "      <td>0.342154</td>\n",
       "      <td>0.002511</td>\n",
       "      <td>0.088444</td>\n",
       "      <td>0.015861</td>\n",
       "      <td>0.136898</td>\n",
       "      <td>0.498624</td>\n",
       "      <td>0.048800</td>\n",
       "      <td>0.855638</td>\n",
       "      <td>0.689463</td>\n",
       "      <td>0.356118</td>\n",
       "      <td>0.246466</td>\n",
       "      <td>0.377640</td>\n",
       "    </tr>\n",
       "    <tr>\n",
       "      <th>4</th>\n",
       "      <td>8149</td>\n",
       "      <td>0.599535</td>\n",
       "      <td>0.648064</td>\n",
       "      <td>0.420399</td>\n",
       "      <td>0.000021</td>\n",
       "      <td>0.025361</td>\n",
       "      <td>0.021780</td>\n",
       "      <td>0.098792</td>\n",
       "      <td>0.182353</td>\n",
       "      <td>0.004522</td>\n",
       "      <td>0.725805</td>\n",
       "      <td>0.537972</td>\n",
       "      <td>0.033933</td>\n",
       "      <td>0.032033</td>\n",
       "      <td>0.022910</td>\n",
       "    </tr>\n",
       "    <tr>\n",
       "      <th>...</th>\n",
       "      <td>...</td>\n",
       "      <td>...</td>\n",
       "      <td>...</td>\n",
       "      <td>...</td>\n",
       "      <td>...</td>\n",
       "      <td>...</td>\n",
       "      <td>...</td>\n",
       "      <td>...</td>\n",
       "      <td>...</td>\n",
       "      <td>...</td>\n",
       "      <td>...</td>\n",
       "      <td>...</td>\n",
       "      <td>...</td>\n",
       "      <td>...</td>\n",
       "      <td>...</td>\n",
       "    </tr>\n",
       "    <tr>\n",
       "      <th>1995</th>\n",
       "      <td>200</td>\n",
       "      <td>0.430770</td>\n",
       "      <td>0.086795</td>\n",
       "      <td>0.094438</td>\n",
       "      <td>0.006189</td>\n",
       "      <td>0.147286</td>\n",
       "      <td>0.001513</td>\n",
       "      <td>0.017361</td>\n",
       "      <td>0.224444</td>\n",
       "      <td>0.009556</td>\n",
       "      <td>0.868206</td>\n",
       "      <td>0.835763</td>\n",
       "      <td>0.056727</td>\n",
       "      <td>0.035194</td>\n",
       "      <td>0.030646</td>\n",
       "    </tr>\n",
       "    <tr>\n",
       "      <th>1996</th>\n",
       "      <td>10876</td>\n",
       "      <td>0.538782</td>\n",
       "      <td>0.542725</td>\n",
       "      <td>0.363126</td>\n",
       "      <td>0.000216</td>\n",
       "      <td>0.007719</td>\n",
       "      <td>0.041373</td>\n",
       "      <td>0.057488</td>\n",
       "      <td>0.205491</td>\n",
       "      <td>0.012458</td>\n",
       "      <td>0.882780</td>\n",
       "      <td>0.873035</td>\n",
       "      <td>0.059980</td>\n",
       "      <td>0.068155</td>\n",
       "      <td>0.101132</td>\n",
       "    </tr>\n",
       "    <tr>\n",
       "      <th>1997</th>\n",
       "      <td>4035</td>\n",
       "      <td>0.466118</td>\n",
       "      <td>0.128486</td>\n",
       "      <td>0.222201</td>\n",
       "      <td>0.000999</td>\n",
       "      <td>0.018679</td>\n",
       "      <td>0.033480</td>\n",
       "      <td>0.036060</td>\n",
       "      <td>0.220284</td>\n",
       "      <td>0.016819</td>\n",
       "      <td>0.912480</td>\n",
       "      <td>0.860348</td>\n",
       "      <td>0.064274</td>\n",
       "      <td>0.043209</td>\n",
       "      <td>0.236037</td>\n",
       "    </tr>\n",
       "    <tr>\n",
       "      <th>1998</th>\n",
       "      <td>3640</td>\n",
       "      <td>0.471049</td>\n",
       "      <td>0.200165</td>\n",
       "      <td>0.297826</td>\n",
       "      <td>0.001035</td>\n",
       "      <td>0.040131</td>\n",
       "      <td>0.014706</td>\n",
       "      <td>0.040472</td>\n",
       "      <td>0.216155</td>\n",
       "      <td>0.014833</td>\n",
       "      <td>0.865429</td>\n",
       "      <td>0.814464</td>\n",
       "      <td>0.040915</td>\n",
       "      <td>0.039982</td>\n",
       "      <td>0.011093</td>\n",
       "    </tr>\n",
       "    <tr>\n",
       "      <th>1999</th>\n",
       "      <td>157</td>\n",
       "      <td>0.506390</td>\n",
       "      <td>0.617922</td>\n",
       "      <td>0.399147</td>\n",
       "      <td>0.000008</td>\n",
       "      <td>0.021758</td>\n",
       "      <td>0.025711</td>\n",
       "      <td>0.036462</td>\n",
       "      <td>0.198023</td>\n",
       "      <td>0.007904</td>\n",
       "      <td>0.880340</td>\n",
       "      <td>0.846801</td>\n",
       "      <td>0.049519</td>\n",
       "      <td>0.041713</td>\n",
       "      <td>0.029243</td>\n",
       "    </tr>\n",
       "  </tbody>\n",
       "</table>\n",
       "<p>2000 rows × 15 columns</p>\n",
       "</div>"
      ],
      "text/plain": [
       "         id  service_a  service_b  service_c  service_d  service_e  service_f  \\\n",
       "0      7957   0.356974   0.724678   0.129314   0.001205   0.020727   0.018504   \n",
       "1       693   0.270181   0.050067   0.020589   0.072282   0.048613   0.000938   \n",
       "2     15558   0.527936   0.538763   0.342072   0.008673   0.047632   0.011899   \n",
       "3     15614   0.535025   0.239983   0.342154   0.002511   0.088444   0.015861   \n",
       "4      8149   0.599535   0.648064   0.420399   0.000021   0.025361   0.021780   \n",
       "...     ...        ...        ...        ...        ...        ...        ...   \n",
       "1995    200   0.430770   0.086795   0.094438   0.006189   0.147286   0.001513   \n",
       "1996  10876   0.538782   0.542725   0.363126   0.000216   0.007719   0.041373   \n",
       "1997   4035   0.466118   0.128486   0.222201   0.000999   0.018679   0.033480   \n",
       "1998   3640   0.471049   0.200165   0.297826   0.001035   0.040131   0.014706   \n",
       "1999    157   0.506390   0.617922   0.399147   0.000008   0.021758   0.025711   \n",
       "\n",
       "      service_g  service_h  service_i  service_j  service_k  service_l  \\\n",
       "0      0.032788   0.037325   0.000520   0.902687   0.824692   0.002828   \n",
       "1      0.009237   0.028289   0.000271   0.946554   0.891643   0.013314   \n",
       "2      0.049073   0.237222   0.003524   0.860869   0.783565   0.098400   \n",
       "3      0.136898   0.498624   0.048800   0.855638   0.689463   0.356118   \n",
       "4      0.098792   0.182353   0.004522   0.725805   0.537972   0.033933   \n",
       "...         ...        ...        ...        ...        ...        ...   \n",
       "1995   0.017361   0.224444   0.009556   0.868206   0.835763   0.056727   \n",
       "1996   0.057488   0.205491   0.012458   0.882780   0.873035   0.059980   \n",
       "1997   0.036060   0.220284   0.016819   0.912480   0.860348   0.064274   \n",
       "1998   0.040472   0.216155   0.014833   0.865429   0.814464   0.040915   \n",
       "1999   0.036462   0.198023   0.007904   0.880340   0.846801   0.049519   \n",
       "\n",
       "      service_m  service_n  \n",
       "0      0.005622   0.073721  \n",
       "1      0.015540   0.075249  \n",
       "2      0.104247   0.286338  \n",
       "3      0.246466   0.377640  \n",
       "4      0.032033   0.022910  \n",
       "...         ...        ...  \n",
       "1995   0.035194   0.030646  \n",
       "1996   0.068155   0.101132  \n",
       "1997   0.043209   0.236037  \n",
       "1998   0.039982   0.011093  \n",
       "1999   0.041713   0.029243  \n",
       "\n",
       "[2000 rows x 15 columns]"
      ]
     },
     "execution_count": 141,
     "metadata": {},
     "output_type": "execute_result"
    }
   ],
   "source": [
    "test_pred = rf_model.predict(test_df)\n",
    "test_prob = rf_model.predict_proba(test_df)\n",
    "problem_test_labels[\"service_n\"] = test_prob[:,1]\n",
    "problem_test_labels\n"
   ]
  },
  {
   "cell_type": "code",
   "execution_count": 159,
   "metadata": {},
   "outputs": [],
   "source": [
    "problem_test_labels.to_csv('problem_test_labels.csv', index=False)"
   ]
  },
  {
   "cell_type": "code",
   "execution_count": 89,
   "metadata": {},
   "outputs": [
    {
     "data": {
      "text/plain": [
       "array([0.37660936, 0.49358033, 0.530087  , 0.04658616, 0.20360368,\n",
       "       0.10743797, 0.18224463, 0.49584814, 0.0803898 , 0.35936582,\n",
       "       0.47000995, 0.26304748, 0.23301618, 0.34844543])"
      ]
     },
     "execution_count": 89,
     "metadata": {},
     "output_type": "execute_result"
    }
   ],
   "source": [
    "LogLossArr"
   ]
  },
  {
   "cell_type": "code",
   "execution_count": 90,
   "metadata": {},
   "outputs": [
    {
     "data": {
      "text/plain": [
       "0.2993051397236045"
      ]
     },
     "execution_count": 90,
     "metadata": {},
     "output_type": "execute_result"
    }
   ],
   "source": [
    "mean_log_loss_rf = LogLossArr.mean()\n",
    "mean_log_loss_rf"
   ]
  },
  {
   "cell_type": "code",
   "execution_count": null,
   "metadata": {},
   "outputs": [],
   "source": []
  },
  {
   "cell_type": "markdown",
   "metadata": {},
   "source": []
  },
  {
   "cell_type": "markdown",
   "metadata": {},
   "source": []
  },
  {
   "cell_type": "markdown",
   "metadata": {},
   "source": []
  },
  {
   "cell_type": "markdown",
   "metadata": {},
   "source": []
  },
  {
   "cell_type": "markdown",
   "metadata": {},
   "source": []
  },
  {
   "cell_type": "markdown",
   "metadata": {},
   "source": [
    "NN"
   ]
  },
  {
   "cell_type": "code",
   "execution_count": 65,
   "metadata": {},
   "outputs": [
    {
     "name": "stdout",
     "output_type": "stream",
     "text": [
      "log loss: 0.372446\n"
     ]
    }
   ],
   "source": [
    "X_train4 = X_train3_top.copy()\n",
    "X_test4 = X_test3_top\n",
    "y_test4 = y_test3\n",
    "y_train4 = y_train3\n",
    "\n",
    "X_train4 = torch.tensor(X_train4.to_numpy(),dtype=torch.float32)\n",
    "X_test4 = torch.tensor(X_test4.to_numpy(),dtype=torch.float32)\n",
    "y_test4 = torch.tensor(y_test4.to_numpy(),dtype=torch.float32).unsqueeze(1)\n",
    "y_train4 = torch.tensor(y_train4.to_numpy(),dtype=torch.float32).unsqueeze(1)\n",
    "\n",
    "torch.manual_seed(42)\n",
    "\n",
    "train_data = TensorDataset(X_train4, y_train4)\n",
    "# data_loader = DataLoader(train_data,batch_size=32,shuffle=True)\n",
    "\n",
    "# model_nn = nn.Sequential(\n",
    "#     nn.Linear(30,25),\n",
    "#     nn.ELU(),\n",
    "#     nn.Linear(25,20),\n",
    "#     nn.ELU(),\n",
    "#     nn.Linear(20,15),\n",
    "#     nn.ReLU(),\n",
    "#     # nn.Dropout(),\n",
    "#     # nn.BatchNorm1d(10),\n",
    "#     nn.Linear(15,10),\n",
    "#     nn.ReLU(),\n",
    "#     # nn.Dropout(),\n",
    "#     # nn.BatchNorm1d(20),\n",
    "#     nn.Linear(10,5),\n",
    "#     # nn.Tanh(),\n",
    "#     nn.ELU(),\n",
    "#     # nn.Dropout(),\n",
    "#     nn.Linear(5,1),\n",
    "#     nn.Sigmoid()\n",
    "# )\n",
    "\n",
    "model_nn = nn.Sequential(\n",
    "    nn.Linear(30,20),\n",
    "    nn.ELU(),\n",
    "    nn.Linear(20,10),\n",
    "    nn.ELU(),\n",
    "    nn.Linear(10,5),\n",
    "    nn.Linear(5,1),\n",
    "    nn.Sigmoid()\n",
    ")\n",
    "\n",
    "criterion = nn.BCELoss()\n",
    "# opt = optim.Adam(model_nn.parameters(),lr=0.001)\n",
    "# opt = optim.RMSprop(model_nn.parameters(),lr=0.001)\n",
    "# opt = optim.AdamW(model_nn.parameters(),lr=0.001)\n",
    "opt = optim.Adamax(model_nn.parameters(),lr=0.001)\n",
    "\n",
    "\n",
    "for epoch in range(750):\n",
    "    outputs = model_nn(X_train4)\n",
    "    loss = criterion(outputs, y_train4)\n",
    "\n",
    "    opt.zero_grad()\n",
    "    loss.backward()\n",
    "    opt.step()\n",
    "\n",
    "with torch.no_grad():\n",
    "    test_outputs = model_nn(X_test4)\n",
    "    pred = test_outputs\n",
    "    logloss = log_loss(y_test4.numpy(),test_outputs.numpy())\n",
    "    print(f'log loss: {logloss:4f}')\n",
    "\n"
   ]
  },
  {
   "cell_type": "code",
   "execution_count": null,
   "metadata": {},
   "outputs": [],
   "source": []
  },
  {
   "cell_type": "code",
   "execution_count": null,
   "metadata": {},
   "outputs": [],
   "source": []
  },
  {
   "cell_type": "code",
   "execution_count": null,
   "metadata": {},
   "outputs": [],
   "source": []
  },
  {
   "cell_type": "markdown",
   "metadata": {},
   "source": [
    "ЛЕС ONE HOT ENC"
   ]
  },
  {
   "cell_type": "code",
   "execution_count": 9,
   "metadata": {},
   "outputs": [
    {
     "name": "stderr",
     "output_type": "stream",
     "text": [
      "C:\\Users\\casov\\AppData\\Local\\Temp\\ipykernel_16476\\846434036.py:10: SettingWithCopyWarning: \n",
      "A value is trying to be set on a copy of a slice from a DataFrame.\n",
      "Try using .loc[row_indexer,col_indexer] = value instead\n",
      "\n",
      "See the caveats in the documentation: https://pandas.pydata.org/pandas-docs/stable/user_guide/indexing.html#returning-a-view-versus-a-copy\n",
      "  train5[num] = scaler.fit_transform(train5[num])\n",
      "C:\\Users\\casov\\AppData\\Local\\Temp\\ipykernel_16476\\846434036.py:22: FutureWarning: A value is trying to be set on a copy of a DataFrame or Series through chained assignment using an inplace method.\n",
      "The behavior will change in pandas 3.0. This inplace method will never work because the intermediate object on which we are setting values always behaves as a copy.\n",
      "\n",
      "For example, when doing 'df[col].method(value, inplace=True)', try using 'df.method({col: value}, inplace=True)' or df[col] = df[col].method(value) instead, to perform the operation inplace on the original object.\n",
      "\n",
      "\n",
      "  train5[column].fillna(mean_val1, inplace=True)\n"
     ]
    }
   ],
   "source": [
    "# nan_count = train.isna().sum()\n",
    "# train5 = train.loc[:, nan_count /len(train)< 0.5]\n",
    "# num = [col for col in train5.columns if train5[col].dtype == \"float64\"]\n",
    "# cat = [col for col in train5.columns if train5[col].dtype == \"object\"]\n",
    "# scaler = StandardScaler()\n",
    "# cat = cat[1:]\n",
    "# train5[num] = scaler.fit_transform(train5[num])\n",
    "# train5 = train5.drop(columns=[\"release\",\"id\"])\n",
    "# train5 = pd.get_dummies(train5)\n",
    "# for column in train5.columns:\n",
    "#     mean_val1 = train5[column].mean()\n",
    "#     train5[column].fillna(mean_val1, inplace=True)\n",
    "\n",
    "# mode = RandomForestClassifier(n_estimators=100, random_state=42)\n",
    "# mode.fit(train5, labels_train[\"service_a\"])\n",
    "# importances = mode.feature_importances_\n",
    "# feature_names = train5.columns\n",
    "# feature_importances = pd.DataFrame({'Feature': feature_names, 'Importance': importances})\n",
    "# feature_importances = feature_importances.sort_values(by='Importance', ascending=False)\n",
    "# important_features = feature_importances['Feature'].tolist()\n",
    "# X_train_important = train5[important_features]\n",
    "\n"
   ]
  },
  {
   "cell_type": "code",
   "execution_count": 16,
   "metadata": {},
   "outputs": [
    {
     "name": "stdout",
     "output_type": "stream",
     "text": [
      "Random Forest accuracy: 0.815625, log loss: 0.4164597625096947\n"
     ]
    },
    {
     "name": "stderr",
     "output_type": "stream",
     "text": [
      "c:\\Users\\casov\\anaconda3\\Lib\\site-packages\\sklearn\\metrics\\_classification.py:2916: UserWarning: The y_pred values do not sum to one. Starting from 1.5 thiswill result in an error.\n",
      "  warnings.warn(\n"
     ]
    }
   ],
   "source": [
    "# # lol = feature_importances.loc[\"Feature\",:30]\n",
    "# ohe_top = feature_importances[\"Feature\"][:20].to_list()\n",
    "# X = train5[ohe_top]\n",
    "# y = labels_train['service_a']\n",
    "# X_train6,X_test6,y_train6, y_test6 = train_test_split(X,y,test_size = 0.2, random_state = 42)\n",
    "\n",
    "\n",
    "# rf_model2 = RandomForestClassifier(\n",
    "#     n_estimators=1000,\n",
    "#     random_state=42,\n",
    "#     max_depth=10,\n",
    "#     bootstrap=True,\n",
    "#     max_features=\"sqrt\"\n",
    "# )\n",
    "\n",
    "# rf_model2.fit(X_train6, y_train6)\n",
    "\n",
    "# y_pred_rf = rf_model2.predict(X_test6)\n",
    "# y_pred_proba_rf = rf_model2.predict_proba(X_test6)\n",
    "\n",
    "# accuracy_rf = accuracy_score(y_test6, y_pred_rf)\n",
    "# loss_rf = log_loss(y_test6, y_pred_proba_rf)\n",
    "\n",
    "# print(f\"Random Forest accuracy: {accuracy_rf}, log loss: {loss_rf}\")\n",
    "\n",
    "\n",
    "\n"
   ]
  },
  {
   "cell_type": "code",
   "execution_count": null,
   "metadata": {},
   "outputs": [],
   "source": []
  },
  {
   "cell_type": "code",
   "execution_count": null,
   "metadata": {},
   "outputs": [],
   "source": []
  },
  {
   "cell_type": "code",
   "execution_count": null,
   "metadata": {},
   "outputs": [],
   "source": []
  },
  {
   "cell_type": "code",
   "execution_count": 178,
   "metadata": {},
   "outputs": [],
   "source": [
    "# nan_count = train.isna().sum()\n",
    "# train7 = train.loc[:, nan_count /len(train)< 0.5]\n",
    "# num = [col for col in train7.columns if train7[col].dtype == \"float64\"]\n",
    "# cat = [col for col in train7.columns if train7[col].dtype == \"object\"]\n",
    "# scaler = StandardScaler()\n",
    "# cat = cat[1:]\n",
    "\n",
    "\n",
    "# X = train7\n",
    "# y = labels_train[\"service_a\"]\n",
    "\n",
    "# X_train7,X_test7,y_train7, y_test7 = train_test_split(X,y,test_size = 0.2, random_state = 42)\n",
    "# target_encoder = TargetEncoder(cols=cat)\n",
    "# X_train7 = target_encoder.fit_transform(X_train7, y_train7)\n",
    "# X_test7 = target_encoder.transform(X_test7)\n",
    "\n",
    "# train7[num] = scaler.fit_transform(train7[num])\n",
    "\n",
    "# train7 = train7.drop(columns=[\"release\",\"id\"])\n",
    "\n",
    "# top_20=[\"c_1259\", \"n_0002\", \"o_0176\", \"n_0099\", \"n_0110\", \"n_0034\", \"n_0100\", \"o_0270\", \"n_0038\", \"o_0153\", \"o_0125\", \"o_0223\", \"n_0086\", \"c_1175\",\n",
    "# \"n_0005\", \"o_0175\", \"n_0102\", \"c_0591\", \"c_1158\", \"o_0279\",\"o_0301\", \"c_1029\", \"c_1172\", \"c_0500\", \"n_0078\", \"c_1238\", \"c_1210\", \"c_0917\", \n",
    "# \"c_0944\", \"c_0775\", \"o_0241\", \"o_0144\", \"o_0201\", \"n_0012\", \"c_1052\", \"c_0749\", \"n_0067\", \"c_1361\", \"n_0064\", \"o_0230\"]\n",
    "\n",
    "\n",
    "# top = top_20[:30]\n",
    "# X_train7_top = X_train7[top]\n",
    "# X_test7_top = X_test7[top]\n",
    "\n",
    "# for column in X_train7_top.columns:\n",
    "#     mean_val1 = X_train7_top[column].mean()\n",
    "#     mean_val2 = X_test7_top[column].mean()\n",
    "#     X_train7_top[column].fillna(mean_val1, inplace=True)\n",
    "#     X_test7_top[column].fillna(mean_val2, inplace=True)\n",
    "\n",
    "\n"
   ]
  },
  {
   "cell_type": "code",
   "execution_count": null,
   "metadata": {},
   "outputs": [],
   "source": []
  },
  {
   "cell_type": "code",
   "execution_count": 26,
   "metadata": {},
   "outputs": [
    {
     "name": "stdout",
     "output_type": "stream",
     "text": [
      "accuracy: 0.8375, log loss: 0.39274141734797796\n"
     ]
    },
    {
     "data": {
      "text/plain": [
       "0.8375"
      ]
     },
     "execution_count": 26,
     "metadata": {},
     "output_type": "execute_result"
    }
   ],
   "source": [
    "# svm_model = SVC(probability=True,kernel=\"linear\",random_state=42)\n",
    "# svm_model.fit(X_train7_top, y_train7)\n",
    "# y_pred_svm = svm_model.predict(X_test7_top)\n",
    "# y_pred_prob = svm_model.predict_proba(X_test7_top)\n",
    "\n",
    "# accuracy7 = accuracy_score(y_test7, y_pred_svm)\n",
    "# logloss7 = log_loss(y_test7, y_pred_prob)\n",
    "# print(f\"accuracy: {accuracy7}, log loss: {logloss7}\")\n",
    "# accuracy7"
   ]
  },
  {
   "cell_type": "markdown",
   "metadata": {},
   "source": []
  },
  {
   "cell_type": "markdown",
   "metadata": {},
   "source": []
  },
  {
   "cell_type": "markdown",
   "metadata": {},
   "source": [
    "Стекинг лес свм"
   ]
  },
  {
   "cell_type": "code",
   "execution_count": 30,
   "metadata": {},
   "outputs": [
    {
     "name": "stdout",
     "output_type": "stream",
     "text": [
      "Stacking accuracy: 0.85625, log loss: 0.3610737027041904\n"
     ]
    }
   ],
   "source": [
    "\n",
    "# forest1 = RandomForestClassifier(\n",
    "#     n_estimators=1000,\n",
    "#     random_state=42,\n",
    "#     max_depth=10,\n",
    "#     bootstrap=True,\n",
    "#     max_features=\"sqrt\"\n",
    "# )\n",
    "# svm = SVC(probability=True,kernel=\"linear\",random_state=42)\n",
    "\n",
    "# meta_model = LogisticRegression(random_state=42)\n",
    "# stacking_model = StackingClassifier(\n",
    "#     estimators=[('forest1', forest1), ('svm', svm)],\n",
    "#     final_estimator=meta_model,\n",
    "#     passthrough=False  \n",
    "# )\n",
    "\n",
    "\n",
    "# X_train, X_test, y_train, y_test = train_test_split(X_train7_top, y_train7, test_size=0.2, random_state=42)\n",
    "# stacking_model.fit(X_train, y_train)\n",
    "# y_pred = stacking_model.predict(X_test)\n",
    "# y_pred_proba = stacking_model.predict_proba(X_test)\n",
    "# accuracy = accuracy_score(y_test, y_pred)\n",
    "# loss = log_loss(y_test, y_pred_proba)\n",
    "\n",
    "# print(f\"Stacking accuracy: {accuracy}, log loss: {loss}\")"
   ]
  },
  {
   "cell_type": "code",
   "execution_count": null,
   "metadata": {},
   "outputs": [],
   "source": []
  },
  {
   "cell_type": "code",
   "execution_count": null,
   "metadata": {},
   "outputs": [],
   "source": []
  },
  {
   "cell_type": "code",
   "execution_count": 177,
   "metadata": {},
   "outputs": [],
   "source": [
    "# nan_count = train.isna().sum()\n",
    "# train8 = train.loc[:, nan_count /len(train)< 0.5]\n",
    "# num = [col for col in train8.columns if train8[col].dtype == \"float64\"]\n",
    "# cat = [col for col in train8.columns if train8[col].dtype == \"object\"]\n",
    "# scaler = StandardScaler()\n",
    "# cat = cat[1:]\n",
    "\n",
    "\n",
    "# X = train8\n",
    "# y = labels_train[\"service_a\"]\n",
    "\n",
    "# X_train8,X_test8,y_train8, y_test8 = train_test_split(X,y,test_size = 0.2, random_state = 42)\n",
    "# target_encoder = TargetEncoder(cols=cat)\n",
    "# X_train8 = target_encoder.fit_transform(X_train8, y_train8)\n",
    "# X_test8 = target_encoder.transform(X_test8)\n",
    "\n",
    "# train8[num] = scaler.fit_transform(train8[num])\n",
    "\n",
    "# train8 = train8.drop(columns=[\"release\",\"id\"])\n",
    "\n",
    "# top_20=[\"c_1259\", \"n_0002\", \"o_0176\", \"n_0099\", \"n_0110\", \"n_0034\", \"n_0100\", \"o_0270\", \"n_0038\", \"o_0153\", \"o_0125\", \"o_0223\", \"n_0086\", \"c_1175\",\n",
    "# \"n_0005\", \"o_0175\", \"n_0102\", \"c_0591\", \"c_1158\", \"o_0279\",\"o_0301\", \"c_1029\", \"c_1172\", \"c_0500\", \"n_0078\", \"c_1238\", \"c_1210\", \"c_0917\", \n",
    "# \"c_0944\", \"c_0775\", \"o_0241\", \"o_0144\", \"o_0201\", \"n_0012\", \"c_1052\", \"c_0749\", \"n_0067\", \"c_1361\", \"n_0064\", \"o_0230\"]\n",
    "\n",
    "\n",
    "# top = top_20[:30]\n",
    "# X_train8_top = X_train8[top]\n",
    "# X_test8_top = X_test8[top]\n",
    "\n",
    "# for column in X_train7_top.columns:\n",
    "#     mean_val1 = X_train8_top[column].mean()\n",
    "#     mean_val2 = X_test8_top[column].mean()\n",
    "#     X_train8_top[column].fillna(mean_val1, inplace=True)\n",
    "#     X_test8_top[column].fillna(mean_val2, inplace=True)\n",
    "\n",
    "\n"
   ]
  },
  {
   "cell_type": "code",
   "execution_count": 33,
   "metadata": {},
   "outputs": [
    {
     "name": "stdout",
     "output_type": "stream",
     "text": [
      "accuracy: 0.836875, log loss: 0.4014510149154218\n"
     ]
    },
    {
     "name": "stderr",
     "output_type": "stream",
     "text": [
      "c:\\Users\\casov\\anaconda3\\Lib\\site-packages\\sklearn\\linear_model\\_logistic.py:460: ConvergenceWarning: lbfgs failed to converge (status=1):\n",
      "STOP: TOTAL NO. of ITERATIONS REACHED LIMIT.\n",
      "\n",
      "Increase the number of iterations (max_iter) or scale the data as shown in:\n",
      "    https://scikit-learn.org/stable/modules/preprocessing.html\n",
      "Please also refer to the documentation for alternative solver options:\n",
      "    https://scikit-learn.org/stable/modules/linear_model.html#logistic-regression\n",
      "  n_iter_i = _check_optimize_result(\n"
     ]
    }
   ],
   "source": [
    "# lr_model = LogisticRegression(random_state=42)\n",
    "# lr_model.fit(X_train8_top, y_train8)\n",
    "\n",
    "# y_pred_lr = lr_model.predict(X_test8_top)\n",
    "# y_pred_prob = lr_model.predict_proba(X_test8_top)\n",
    "\n",
    "# accuracy8 = accuracy_score(y_test8, y_pred_lr)\n",
    "# logloss8 = log_loss(y_test8, y_pred_prob)\n",
    "# print(f\"accuracy: {accuracy8}, log loss: {logloss8}\")\n"
   ]
  },
  {
   "cell_type": "code",
   "execution_count": null,
   "metadata": {},
   "outputs": [],
   "source": []
  },
  {
   "cell_type": "code",
   "execution_count": null,
   "metadata": {},
   "outputs": [],
   "source": []
  },
  {
   "cell_type": "code",
   "execution_count": null,
   "metadata": {},
   "outputs": [],
   "source": []
  },
  {
   "cell_type": "markdown",
   "metadata": {},
   "source": [
    "СТЕКИНГ ЛЕС ЛОГРЕГ"
   ]
  },
  {
   "cell_type": "code",
   "execution_count": 176,
   "metadata": {},
   "outputs": [],
   "source": [
    "# nan_count = train.isna().sum()\n",
    "# train9 = train.loc[:, nan_count /len(train)< 0.5]\n",
    "# num = [col for col in train9.columns if train9[col].dtype == \"float64\"]\n",
    "# cat = [col for col in train8.columns if train9[col].dtype == \"object\"]\n",
    "# scaler = StandardScaler()\n",
    "# cat = cat[1:]\n",
    "# # train8[num] = scaler.fit_transform(train9[num])\n",
    " \n",
    "\n",
    "# X = train9\n",
    "# y = labels_train[\"service_e\"]\n",
    "\n",
    "\n",
    "# X_train9,X_test9,y_train9, y_test9 = train_test_split(X,y,test_size = 0.2, random_state = 42)\n",
    "# target_encoder = TargetEncoder(cols=cat)\n",
    "# X_train9 = target_encoder.fit_transform(X_train9, y_train9)\n",
    "# X_test9 = target_encoder.transform(X_test9)\n",
    "\n",
    "\n",
    "\n",
    "# top_20=[\"c_1259\", \"n_0002\", \"o_0176\", \"n_0099\", \"n_0110\", \"n_0034\", \"n_0100\", \"o_0270\", \"n_0038\", \"o_0153\", \"o_0125\", \"o_0223\", \"n_0086\", \"c_1175\",\n",
    "# \"n_0005\", \"o_0175\", \"n_0102\", \"c_0591\", \"c_1158\", \"o_0279\",\"o_0301\", \"c_1029\", \"c_1172\", \"c_0500\", \"n_0078\", \"c_1238\", \"c_1210\", \"c_0917\", \n",
    "# \"c_0944\", \"c_0775\", \"o_0241\", \"o_0144\", \"o_0201\", \"n_0012\", \"c_1052\", \"c_0749\", \"n_0067\", \"c_1361\", \"n_0064\", \"o_0230\"]\n",
    "\n",
    "\n",
    "# top = top_20[:30]\n",
    "# X_train9_top = X_train9[top]\n",
    "# X_test9_top = X_test9[top]\n",
    "\n",
    "# for column in X_train9_top.columns:\n",
    "#     mean_val1 = X_train9_top[column].mean()\n",
    "#     mean_val2 = X_test9_top[column].mean()\n",
    "#     X_train9_top[column].fillna(mean_val1, inplace=True)\n",
    "#     X_test9_top[column].fillna(mean_val2, inplace=True)\n",
    "\n",
    "\n"
   ]
  },
  {
   "cell_type": "code",
   "execution_count": 119,
   "metadata": {},
   "outputs": [
    {
     "name": "stdout",
     "output_type": "stream",
     "text": [
      "Stacking accuracy: 0.941875, log loss: 0.20839430371594722\n"
     ]
    }
   ],
   "source": [
    "\n",
    "# forest = RandomForestClassifier(\n",
    "#     n_estimators=1000,\n",
    "#     random_state=42,\n",
    "#     max_depth=10,\n",
    "#     bootstrap=True,\n",
    "#     max_features=\"sqrt\"\n",
    "# )\n",
    "# log_reg = LogisticRegression(random_state=42, max_iter=10000)\n",
    "\n",
    "# meta_model = LogisticRegression(random_state=42)\n",
    "# stacking_model = StackingClassifier(\n",
    "#     estimators=[('forest', forest), (\"log_reg\", log_reg)],\n",
    "#     final_estimator=meta_model,\n",
    "#     passthrough=False  \n",
    "# )\n",
    "\n",
    "\n",
    "# stacking_model.fit(X_train9_top, y_train9)\n",
    "# y_pred = stacking_model.predict(X_test9_top)\n",
    "# y_pred_proba = stacking_model.predict_proba(X_test9_top)\n",
    "# accuracy = accuracy_score(y_test9, y_pred)\n",
    "# loss = log_loss(y_test9, y_pred_proba)\n",
    "# log_loss_stacking = np.append(log_loss_stacking,loss)\n",
    "# print(f\"Stacking accuracy: {accuracy}, log loss: {loss}\")"
   ]
  },
  {
   "cell_type": "code",
   "execution_count": 120,
   "metadata": {},
   "outputs": [
    {
     "data": {
      "text/plain": [
       "array([0.3680373 , 0.49308447, 0.53202766, 0.05644528, 0.2083943 ])"
      ]
     },
     "execution_count": 120,
     "metadata": {},
     "output_type": "execute_result"
    }
   ],
   "source": [
    "\n",
    "# log_loss_stacking"
   ]
  },
  {
   "cell_type": "code",
   "execution_count": null,
   "metadata": {},
   "outputs": [],
   "source": []
  },
  {
   "cell_type": "code",
   "execution_count": null,
   "metadata": {},
   "outputs": [],
   "source": []
  },
  {
   "cell_type": "code",
   "execution_count": null,
   "metadata": {},
   "outputs": [],
   "source": []
  },
  {
   "cell_type": "code",
   "execution_count": 175,
   "metadata": {},
   "outputs": [],
   "source": [
    "# nan_count = train.isna().sum()\n",
    "# train9 = train.loc[:, nan_count /len(train)< 0.5]\n",
    "# num = [col for col in train9.columns if train9[col].dtype == \"float64\"]\n",
    "# cat = [col for col in train9.columns if train9[col].dtype == \"object\"]\n",
    "# scaler = StandardScaler()\n",
    "# cat = cat[1:]\n",
    "# # train8[num] = scaler.fit_transform(train9[num])\n",
    " \n",
    "\n",
    "# X = train9\n",
    "# y = labels_train[\"service_d\"]\n",
    "\n",
    "\n",
    "# X_train9,X_test9,y_train9, y_test9 = train_test_split(X,y,test_size = 0.2, random_state = 42)\n",
    "# target_encoder = TargetEncoder(cols=cat)\n",
    "# X_train9 = target_encoder.fit_transform(X_train9, y_train9)\n",
    "# X_test9 = target_encoder.transform(X_test9)\n",
    "\n",
    "\n",
    "\n",
    "# top_20=[\"c_1259\", \"n_0002\", \"o_0176\", \"n_0099\", \"n_0110\", \"n_0034\", \"n_0100\", \"o_0270\", \"n_0038\", \"o_0153\", \"o_0125\", \"o_0223\", \"n_0086\", \"c_1175\",\n",
    "# \"n_0005\", \"o_0175\", \"n_0102\", \"c_0591\", \"c_1158\", \"o_0279\",\"o_0301\", \"c_1029\", \"c_1172\", \"c_0500\", \"n_0078\", \"c_1238\", \"c_1210\", \"c_0917\", \n",
    "# \"c_0944\", \"c_0775\", \"o_0241\", \"o_0144\", \"o_0201\", \"n_0012\", \"c_1052\", \"c_0749\", \"n_0067\", \"c_1361\", \"n_0064\", \"o_0230\"]\n",
    "\n",
    "\n",
    "# top = top_20[:30]\n",
    "# X_train9_top = X_train9[top]\n",
    "# X_test9_top = X_test9[top]\n",
    "\n",
    "# for column in X_train9_top.columns:\n",
    "#     mean_val1 = X_train9_top[column].mean()\n",
    "#     mean_val2 = X_test9_top[column].mean()\n",
    "#     X_train9_top[column].fillna(mean_val1, inplace=True)\n",
    "#     X_test9_top[column].fillna(mean_val2, inplace=True)\n",
    "\n",
    "\n"
   ]
  },
  {
   "cell_type": "code",
   "execution_count": 158,
   "metadata": {},
   "outputs": [
    {
     "name": "stdout",
     "output_type": "stream",
     "text": [
      "Stacking accuracy: 0.985625, log loss: 0.056765879085935084\n"
     ]
    }
   ],
   "source": [
    "\n",
    "# forest = RandomForestClassifier(\n",
    "#     n_estimators=1000,\n",
    "#     random_state=42,\n",
    "#     max_depth=10,\n",
    "#     bootstrap=True,\n",
    "#     max_features=\"sqrt\"\n",
    "# )\n",
    "# # cat_boost = CatBoostClassifier(\n",
    "# #     iterations=1000,\n",
    "# #     learning_rate=0.1,\n",
    "# #     depth=6,\n",
    "# #     cat_features=list(cat_feat),\n",
    "# #     verbose=0)\n",
    "\n",
    "# boost = xgb.XGBClassifier(n_estimators= 1000, learning_rate= 0.1, random_state=42)\n",
    "\n",
    "# meta_model = LogisticRegression(random_state=42)\n",
    "# stacking_model = StackingClassifier(\n",
    "#     estimators=[('forest', forest), (\"boost\", boost)],\n",
    "#     final_estimator=meta_model,\n",
    "#     passthrough=False  \n",
    "# )\n",
    "\n",
    "\n",
    "# stacking_model.fit(X_train9_top, y_train9)\n",
    "# y_pred = stacking_model.predict(X_test9_top)\n",
    "# y_pred_proba = stacking_model.predict_proba(X_test9_top)\n",
    "# accuracy = accuracy_score(y_test9, y_pred)\n",
    "# loss = log_loss(y_test9, y_pred_proba)\n",
    "# # log_loss_stacking = np.append(log_loss_stacking,loss)\n",
    "# print(f\"Stacking accuracy: {accuracy}, log loss: {loss}\")"
   ]
  },
  {
   "cell_type": "code",
   "execution_count": null,
   "metadata": {},
   "outputs": [],
   "source": []
  },
  {
   "cell_type": "markdown",
   "metadata": {},
   "source": [
    "array([0.37660936, 0.49358033, 0.530087  , 0.04658616, 0.20360368,\n",
    "       0.10743797, 0.18224463, 0.49584814, 0.0803898 , 0.35936582,\n",
    "       0.47000995, 0.26304748, 0.23301618, 0.34844543])"
   ]
  },
  {
   "cell_type": "code",
   "execution_count": null,
   "metadata": {},
   "outputs": [],
   "source": []
  },
  {
   "cell_type": "code",
   "execution_count": null,
   "metadata": {},
   "outputs": [],
   "source": []
  },
  {
   "cell_type": "code",
   "execution_count": null,
   "metadata": {},
   "outputs": [],
   "source": []
  },
  {
   "cell_type": "code",
   "execution_count": 174,
   "metadata": {},
   "outputs": [],
   "source": [
    "# nan_count = train.isna().sum()\n",
    "# train9 = train.loc[:, nan_count /len(train)< 0.5]\n",
    "# num = [col for col in train9.columns if train9[col].dtype == \"float64\"]\n",
    "# cat = [col for col in train9.columns if train9[col].dtype == \"object\"]\n",
    "# scaler = StandardScaler()\n",
    "# cat = cat[1:]\n",
    "# # train8[num] = scaler.fit_transform(train9[num])\n",
    " \n",
    "\n",
    "# X = train9\n",
    "# y = labels_train[\"service_a\"]\n",
    "\n",
    "# label_encoder = LabelEncoder()\n",
    "# for col in cat:\n",
    "#     X[col] = label_encoder.fit_transform(X[col])\n",
    "\n",
    "# X = X.drop(columns=[\"release\",\"id\"])\n",
    "\n",
    "\n",
    "# # top_20=[\"c_1259\", \"n_0002\", \"o_0176\", \"n_0099\", \"n_0110\", \"n_0034\", \"n_0100\", \"o_0270\", \"n_0038\", \"o_0153\", \"o_0125\", \"o_0223\", \"n_0086\", \"c_1175\",\n",
    "# # \"n_0005\", \"o_0175\", \"n_0102\", \"c_0591\", \"c_1158\", \"o_0279\",\"o_0301\", \"c_1029\", \"c_1172\", \"c_0500\", \"n_0078\", \"c_1238\", \"c_1210\", \"c_0917\", \n",
    "# # \"c_0944\", \"c_0775\", \"o_0241\", \"o_0144\", \"o_0201\", \"n_0012\", \"c_1052\", \"c_0749\", \"n_0067\", \"c_1361\", \"n_0064\", \"o_0230\"]\n",
    "\n",
    "\n",
    "# # top = top_20[:30]\n",
    "# # X = X[top]\n",
    "\n",
    "# for column in X.columns:\n",
    "#     mean_val1 = X[column].mean()\n",
    "#     X[column].fillna(mean_val1, inplace=True)\n",
    "\n",
    "# mode = RandomForestClassifier(n_estimators=100, random_state=42)\n",
    "# mode.fit(X, labels_train[\"service_a\"])\n",
    "# importances = mode.feature_importances_\n",
    "# feature_names = X.columns\n",
    "# feature_importances = pd.DataFrame({'Feature': feature_names, 'Importance': importances})\n",
    "# feature_importances = feature_importances.sort_values(by='Importance', ascending=False)\n",
    "# important_features = feature_importances['Feature'].tolist()\n",
    "# X = X[important_features]\n",
    "\n",
    "\n",
    "\n"
   ]
  },
  {
   "cell_type": "code",
   "execution_count": null,
   "metadata": {},
   "outputs": [],
   "source": []
  },
  {
   "cell_type": "code",
   "execution_count": 172,
   "metadata": {},
   "outputs": [
    {
     "data": {
      "text/plain": [
       "0.42970611041349843"
      ]
     },
     "execution_count": 172,
     "metadata": {},
     "output_type": "execute_result"
    }
   ],
   "source": [
    "# X_tr,X_te,y_tr,y_te = train_test_split(X,y,random_state=42,test_size=0.2)\n",
    "\n",
    "# forest = RandomForestClassifier(\n",
    "#     n_estimators=1000,\n",
    "#     random_state=42,\n",
    "#     max_depth=10,\n",
    "#     bootstrap=True,\n",
    "#     max_features=\"sqrt\"\n",
    "# )\n",
    "\n",
    "# forest.fit(X_tr,y_tr)\n",
    "# y_pre = forest.predict_proba(X_te)\n",
    "# ll = log_loss(y_te,y_pre)\n",
    "# ll\n",
    "\n"
   ]
  },
  {
   "cell_type": "code",
   "execution_count": 9,
   "metadata": {},
   "outputs": [
    {
     "data": {
      "text/plain": [
       "<Axes: >"
      ]
     },
     "execution_count": 9,
     "metadata": {},
     "output_type": "execute_result"
    },
    {
     "data": {
      "image/png": "[encoded data removed]",
      "text/plain": [
       "<Figure size 640x480 with 1 Axes>"
      ]
     },
     "metadata": {},
     "output_type": "display_data"
    }
   ],
   "source": [
    "train['release'].hist()\n"
   ]
  },
  {
   "cell_type": "code",
   "execution_count": 15,
   "metadata": {},
   "outputs": [
    {
     "name": "stderr",
     "output_type": "stream",
     "text": [
      "C:\\Users\\casov\\AppData\\Local\\Temp\\ipykernel_2320\\3130422913.py:33: FutureWarning: A value is trying to be set on a copy of a DataFrame or Series through chained assignment using an inplace method.\n",
      "The behavior will change in pandas 3.0. This inplace method will never work because the intermediate object on which we are setting values always behaves as a copy.\n",
      "\n",
      "For example, when doing 'df[col].method(value, inplace=True)', try using 'df.method({col: value}, inplace=True)' or df[col] = df[col].method(value) instead, to perform the operation inplace on the original object.\n",
      "\n",
      "\n",
      "  X_train9_top[column].fillna(mean_val1, inplace=True)\n",
      "C:\\Users\\casov\\AppData\\Local\\Temp\\ipykernel_2320\\3130422913.py:33: SettingWithCopyWarning: \n",
      "A value is trying to be set on a copy of a slice from a DataFrame\n",
      "\n",
      "See the caveats in the documentation: https://pandas.pydata.org/pandas-docs/stable/user_guide/indexing.html#returning-a-view-versus-a-copy\n",
      "  X_train9_top[column].fillna(mean_val1, inplace=True)\n",
      "C:\\Users\\casov\\AppData\\Local\\Temp\\ipykernel_2320\\3130422913.py:34: FutureWarning: A value is trying to be set on a copy of a DataFrame or Series through chained assignment using an inplace method.\n",
      "The behavior will change in pandas 3.0. This inplace method will never work because the intermediate object on which we are setting values always behaves as a copy.\n",
      "\n",
      "For example, when doing 'df[col].method(value, inplace=True)', try using 'df.method({col: value}, inplace=True)' or df[col] = df[col].method(value) instead, to perform the operation inplace on the original object.\n",
      "\n",
      "\n",
      "  X_test9_top[column].fillna(mean_val2, inplace=True)\n",
      "C:\\Users\\casov\\AppData\\Local\\Temp\\ipykernel_2320\\3130422913.py:34: SettingWithCopyWarning: \n",
      "A value is trying to be set on a copy of a slice from a DataFrame\n",
      "\n",
      "See the caveats in the documentation: https://pandas.pydata.org/pandas-docs/stable/user_guide/indexing.html#returning-a-view-versus-a-copy\n",
      "  X_test9_top[column].fillna(mean_val2, inplace=True)\n",
      "c:\\Users\\casov\\anaconda3\\Lib\\site-packages\\sklearn\\metrics\\_classification.py:2916: UserWarning: The y_pred values do not sum to one. Starting from 1.5 thiswill result in an error.\n",
      "  warnings.warn(\n"
     ]
    },
    {
     "data": {
      "text/plain": [
       "0.7099129024018933"
      ]
     },
     "execution_count": 15,
     "metadata": {},
     "output_type": "execute_result"
    }
   ],
   "source": [
    "# nan_count = train.isna().sum()\n",
    "# train9 = train.loc[:, nan_count /len(train)< 0.5]\n",
    "# num = [col for col in train9.columns if train9[col].dtype == \"float64\"]\n",
    "# cat = [col for col in train9.columns if train9[col].dtype == \"object\"]\n",
    "# scaler = StandardScaler()\n",
    "# cat = cat[1:]\n",
    "# # train8[num] = scaler.fit_transform(train9[num])\n",
    " \n",
    "\n",
    "# X = train9\n",
    "# y = labels_train[\"service_a\"]\n",
    "\n",
    "\n",
    "# X_train9,X_test9,y_train9, y_test9 = train_test_split(X,y,test_size = 0.2, random_state = 42)\n",
    "# target_encoder = TargetEncoder(cols=cat)\n",
    "# X_train9 = target_encoder.fit_transform(X_train9, y_train9)\n",
    "# X_test9 = target_encoder.transform(X_test9)\n",
    "\n",
    "\n",
    "\n",
    "# top_20=[\"c_1259\", \"n_0002\", \"o_0176\", \"n_0099\", \"n_0110\", \"n_0034\", \"n_0100\", \"o_0270\", \"n_0038\", \"o_0153\", \"o_0125\", \"o_0223\", \"n_0086\", \"c_1175\",\n",
    "# \"n_0005\", \"o_0175\", \"n_0102\", \"c_0591\", \"c_1158\", \"o_0279\",\"o_0301\", \"c_1029\", \"c_1172\", \"c_0500\", \"n_0078\", \"c_1238\", \"c_1210\", \"c_0917\", \n",
    "# \"c_0944\", \"c_0775\", \"o_0241\", \"o_0144\", \"o_0201\", \"n_0012\", \"c_1052\", \"c_0749\", \"n_0067\", \"c_1361\", \"n_0064\", \"o_0230\"]\n",
    "\n",
    "\n",
    "# top = top_20[:30]\n",
    "# X_train9_top = X_train9[top]\n",
    "# X_test9_top = X_test9[top]\n",
    "\n",
    "# for column in X_train9_top.columns:\n",
    "#     mean_val1 = X_train9_top[column].mean()\n",
    "#     mean_val2 = X_test9_top[column].mean()\n",
    "#     X_train9_top[column].fillna(mean_val1, inplace=True)\n",
    "#     X_test9_top[column].fillna(mean_val2, inplace=True)\n",
    "\n",
    "\n",
    "\n",
    "\n",
    "\n",
    "# naive = CategoricalNB()\n",
    "# naive.fit(X_train9_top,y_train9)\n",
    "# y_pre = naive.predict_proba(X_test9_top)\n",
    "# ll = log_loss(y_test9,y_pre)\n",
    "# ll\n",
    "\n",
    "\n"
   ]
  },
  {
   "cell_type": "code",
   "execution_count": null,
   "metadata": {},
   "outputs": [],
   "source": []
  },
  {
   "cell_type": "code",
   "execution_count": null,
   "metadata": {},
   "outputs": [],
   "source": []
  },
  {
   "cell_type": "code",
   "execution_count": null,
   "metadata": {},
   "outputs": [],
   "source": []
  }
 ],
 "metadata": {
  "kernelspec": {
   "display_name": "base",
   "language": "python",
   "name": "python3"
  },
  "language_info": {
   "codemirror_mode": {
    "name": "ipython",
    "version": 3
   },
   "file_extension": ".py",
   "mimetype": "text/x-python",
   "name": "python",
   "nbconvert_exporter": "python",
   "pygments_lexer": "ipython3",
   "version": "3.11.4"
  }
 },
 "nbformat": 4,
 "nbformat_minor": 2
}
